{
 "cells": [
  {
   "cell_type": "markdown",
   "metadata": {
    "id": "KjUE9JHxd6su"
   },
   "source": [
    "#Training model1_number"
   ]
  },
  {
   "cell_type": "code",
   "execution_count": null,
   "metadata": {
    "id": "Ihi4OoMBdynA"
   },
   "outputs": [],
   "source": [
    "import numpy as np\n",
    "import cv2\n",
    "import sys\n",
    "import random\n",
    "import glob\n",
    "import re\n",
    "import time\n",
    "import os\n",
    "from tqdm.notebook import tqdm as log_progress\n",
    "from matplotlib import pyplot as plt\n",
    "\n",
    "from tensorflow.keras.layers import Dense, Input, Conv2D, MaxPooling2D, Flatten\n",
    "from tensorflow.keras.models import Model"
   ]
  },
  {
   "cell_type": "markdown",
   "metadata": {
    "id": "Qzd5O0AnVgUl"
   },
   "source": [
    "###Complete this basing on where you are running the notebook:"
   ]
  },
  {
   "cell_type": "code",
   "execution_count": null,
   "metadata": {
    "colab": {
     "base_uri": "https://localhost:8080/"
    },
    "id": "jtrkpZ3uVfCz",
    "outputId": "60a8a45f-3a0c-4a3d-98ce-e88c89cfefd7"
   },
   "outputs": [
    {
     "name": "stdout",
     "output_type": "stream",
     "text": [
      "fatal: destination path 'scopa' already exists and is not an empty directory.\n"
     ]
    }
   ],
   "source": [
    "on_colab = True\n",
    "EPOCHS = 10\n",
    "LEN_TRAINING_DATA = 75000\n",
    "if on_colab:\n",
    "    !git clone https://github.com/andreorto98/scopa.git\n",
    "    path_to_deck = './scopa/scopa/new_deck/'\n",
    "if not on_colab:\n",
    "    path_to_deck = './new_deck/'"
   ]
  },
  {
   "cell_type": "code",
   "execution_count": null,
   "metadata": {
    "id": "4fjWJ1Rid1Tl"
   },
   "outputs": [],
   "source": [
    "def transform_img(img, angle = 0, scale = 1, tr = (0,0)):\n",
    "  input_img_shape = img.shape\n",
    "  img_center = (int(input_img_shape[0]/2), int(input_img_shape[1]/2))\n",
    "  trasl_mat = np.zeros((2,3))\n",
    "  trasl_mat[0,2]=tr[0]\n",
    "  trasl_mat[1,2]=tr[1]\n",
    "  trasl_mat[0,0] = trasl_mat[1][1] = 1\n",
    "  img = cv2.warpAffine(img, trasl_mat, img.shape[0:2], flags=cv2.INTER_LINEAR)\n",
    "  rot_mat = cv2.getRotationMatrix2D(img_center, angle, scale)\n",
    "  img = cv2.warpAffine(img, rot_mat, img.shape[0:2], flags=cv2.INTER_LINEAR)\n",
    "  return img.reshape(input_img_shape)\n",
    "\n",
    "def generate_cards(n=1, layers=3, ang = True, traslate=False):\n",
    "    cards = np.random.randint(1,41,n, np.uint8)\n",
    "    if ang:\n",
    "        angles= np.random.uniform(0,360,n)\n",
    "    else:\n",
    "        angles = np.full(n, 0.)\n",
    "    scales= np.random.uniform(0.9,1.1,n)\n",
    "    if layers == 1:\n",
    "        print(path_to_deck+\"*.jpg\")\n",
    "        inp_images = sorted([file for file in glob.glob(path_to_deck+\"*.jpg\")], key = string_to_n_card)\n",
    "        inp_images = [cv2.imread(file, cv2.IMREAD_GRAYSCALE).reshape(256,256,1) for file in inp_images]\n",
    "    elif layers == 3:\n",
    "        inp_images = sorted([file for file in glob.glob(\"./deck0/*.jpg\")], key = string_to_n_card)\n",
    "        inp_images = [cv2.imread(file)[232:488,232:488] for file in inp_images]\n",
    "    image_shape = inp_images[0].shape\n",
    "\n",
    "    if traslate:\n",
    "        marg = 5\n",
    "        max_tr_x = int(image_shape[0]/2-image_shape[0]/marg)\n",
    "        max_tr_y = int(image_shape[1]/2-image_shape[1]/marg)\n",
    "        tr_x = np.random.randint(0,max_tr_x,n)\n",
    "        tr_y = np.random.randint(0,max_tr_y,n)\n",
    "    else:\n",
    "        tr_x = np.zeros(n)\n",
    "        tr_y = np.zeros(n)\n",
    "\n",
    "    images = [transform_img(inp_images[cards[i]-1], angles[i], scales[i], (tr_x[i], tr_y[i]))\n",
    "              for i in log_progress(range(len(cards)))]\n",
    "\n",
    "    return np.array(images), np.array(cards)\n",
    "\n",
    "def string_to_n_card(str):\n",
    "    if str.startswith('.'):\n",
    "         words = re.split('_|/|.j', str)[-3:-1]\n",
    "    else: words = str.split('_')\n",
    "    suit_to_n = {'hearts':0, 'diamonds':10, 'clubs':20, 'spades':30}\n",
    "    return int(words[0])+suit_to_n[words[1]]"
   ]
  },
  {
   "cell_type": "code",
   "execution_count": null,
   "metadata": {
    "colab": {
     "base_uri": "https://localhost:8080/"
    },
    "id": "tNa6FUhIrlpn",
    "outputId": "93af9bf3-5a81-4647-c03e-2b687170ab13"
   },
   "outputs": [
    {
     "name": "stdout",
     "output_type": "stream",
     "text": [
      "sample_data  scopa\n"
     ]
    }
   ],
   "source": [
    "!ls"
   ]
  },
  {
   "cell_type": "code",
   "execution_count": null,
   "metadata": {
    "colab": {
     "base_uri": "https://localhost:8080/",
     "height": 148,
     "referenced_widgets": [
      "b7091e68e302454f98f17ccce220529d",
      "01a557884d9e41b9bc0c14f6e7e47c69",
      "65f00fe4cb154fabb9d0dcaba265b212",
      "83c23bca7a1b4227a555bec6e00f96c7",
      "446a9c1f55e34214be5035c39cc2c39d",
      "f291815cb74b43a6b55699d5870fd35a",
      "2b053333848f4fedbf33b6ff941a1b5a",
      "510e711c0de24ddfa1018229c1686aa3"
     ]
    },
    "id": "7su59PYH2G1j",
    "outputId": "15f06d04-656b-4fb8-b164-4de8c99cc974"
   },
   "outputs": [
    {
     "name": "stdout",
     "output_type": "stream",
     "text": [
      "start time1\n",
      "./scopa/scopa/new_deck/*.jpg\n"
     ]
    },
    {
     "data": {
      "application/vnd.jupyter.widget-view+json": {
       "model_id": "b7091e68e302454f98f17ccce220529d",
       "version_major": 2,
       "version_minor": 0
      },
      "text/plain": [
       "HBox(children=(FloatProgress(value=0.0, max=75000.0), HTML(value='')))"
      ]
     },
     "metadata": {
      "tags": []
     },
     "output_type": "display_data"
    },
    {
     "name": "stdout",
     "output_type": "stream",
     "text": [
      "\n",
      "(75000, 256, 256, 1) (75000,)\n",
      "cards_generated\n",
      "--- 77.08464527130127 seconds ---\n"
     ]
    }
   ],
   "source": [
    "n_samples = LEN_TRAINING_DATA\n",
    "\n",
    "# con 10000 impiega 70s per laprima parte e usa circa 10 GB\n",
    "\n",
    "print('start time1')\n",
    "start = time.time()\n",
    "\n",
    "# Generate training data1\n",
    "train_data, target = generate_cards(n_samples, 1, True)\n",
    "\n",
    "print(train_data.shape, target.shape)\n",
    "\n",
    "print('cards_generated')\n",
    "print(\"--- %s seconds ---\" % (time.time() - start))"
   ]
  },
  {
   "cell_type": "code",
   "execution_count": null,
   "metadata": {
    "colab": {
     "base_uri": "https://localhost:8080/"
    },
    "id": "QQKqZZm9rnSH",
    "outputId": "ed2d8b9e-3861-49ed-f509-c709c8183a36"
   },
   "outputs": [
    {
     "name": "stdout",
     "output_type": "stream",
     "text": [
      "Dimension of train_data (MB): 4915 (75000, 256, 256, 1)\n",
      "Model: \"model\"\n",
      "_________________________________________________________________\n",
      "Layer (type)                 Output Shape              Param #   \n",
      "=================================================================\n",
      "input_1 (InputLayer)         [(None, 256, 256, 1)]     0         \n",
      "_________________________________________________________________\n",
      "conv2d (Conv2D)              (None, 254, 254, 1)       10        \n",
      "_________________________________________________________________\n",
      "max_pooling2d (MaxPooling2D) (None, 127, 127, 1)       0         \n",
      "_________________________________________________________________\n",
      "conv2d_1 (Conv2D)            (None, 126, 126, 2)       10        \n",
      "_________________________________________________________________\n",
      "max_pooling2d_1 (MaxPooling2 (None, 63, 63, 2)         0         \n",
      "_________________________________________________________________\n",
      "conv2d_2 (Conv2D)            (None, 62, 62, 3)         27        \n",
      "_________________________________________________________________\n",
      "max_pooling2d_2 (MaxPooling2 (None, 20, 20, 3)         0         \n",
      "_________________________________________________________________\n",
      "flatten (Flatten)            (None, 1200)              0         \n",
      "_________________________________________________________________\n",
      "dense (Dense)                (None, 32)                38432     \n",
      "_________________________________________________________________\n",
      "dense_1 (Dense)              (None, 10)                330       \n",
      "=================================================================\n",
      "Total params: 38,809\n",
      "Trainable params: 38,809\n",
      "Non-trainable params: 0\n",
      "_________________________________________________________________\n",
      "Epoch 1/10\n",
      "469/469 [==============================] - 20s 31ms/step - loss: 1.3823 - categorical_accuracy: 0.5559 - val_loss: 0.1038 - val_categorical_accuracy: 0.9604\n",
      "Epoch 2/10\n",
      "469/469 [==============================] - 14s 30ms/step - loss: 0.0428 - categorical_accuracy: 0.9844 - val_loss: 0.0427 - val_categorical_accuracy: 0.9849\n",
      "Epoch 3/10\n",
      "469/469 [==============================] - 14s 30ms/step - loss: 0.0191 - categorical_accuracy: 0.9931 - val_loss: 0.0177 - val_categorical_accuracy: 0.9943\n",
      "Epoch 4/10\n",
      "469/469 [==============================] - 14s 31ms/step - loss: 0.0125 - categorical_accuracy: 0.9966 - val_loss: 0.0123 - val_categorical_accuracy: 0.9962\n",
      "Epoch 5/10\n",
      "469/469 [==============================] - 14s 30ms/step - loss: 0.0091 - categorical_accuracy: 0.9971 - val_loss: 0.0149 - val_categorical_accuracy: 0.9952\n",
      "Epoch 6/10\n",
      "469/469 [==============================] - 14s 30ms/step - loss: 0.0230 - categorical_accuracy: 0.9935 - val_loss: 0.0088 - val_categorical_accuracy: 0.9971\n",
      "Epoch 7/10\n",
      "469/469 [==============================] - 14s 30ms/step - loss: 0.0031 - categorical_accuracy: 0.9990 - val_loss: 0.0031 - val_categorical_accuracy: 0.9989\n",
      "Epoch 8/10\n",
      "469/469 [==============================] - 14s 30ms/step - loss: 4.7262e-04 - categorical_accuracy: 0.9999 - val_loss: 0.0018 - val_categorical_accuracy: 0.9994\n",
      "Epoch 9/10\n",
      "469/469 [==============================] - 14s 30ms/step - loss: 6.2416e-05 - categorical_accuracy: 1.0000 - val_loss: 0.0016 - val_categorical_accuracy: 0.9995\n",
      "Epoch 10/10\n",
      "469/469 [==============================] - 14s 30ms/step - loss: 2.7480e-05 - categorical_accuracy: 1.0000 - val_loss: 0.0015 - val_categorical_accuracy: 0.9995\n",
      "end of training\n",
      "--- 229.92202067375183 seconds ---\n"
     ]
    }
   ],
   "source": [
    "print(f'Dimension of train_data (MB): {sys.getsizeof(train_data)/1e6:.0f}', train_data.shape)\n",
    "\n",
    "\n",
    "'''     MODEL1:\n",
    "        Each image contains one card.\n",
    "        The card is recognised looking separately to the suit and to the carder\n",
    "\n",
    "'''\n",
    "\n",
    "def card_to_number(card):\n",
    "    target = np.zeros(10)\n",
    "    target[(card-1)%10]=1.\n",
    "    return target\n",
    "    \n",
    "\n",
    "model1 = True\n",
    "if model1:\n",
    "    # creating the ground truth labels\n",
    "    labels = np.array([card_to_number(card) for card in target])\n",
    "\n",
    "    # building the model: suit\n",
    "    inputs = Input(shape=train_data[0].shape)\n",
    "    conv = Conv2D(1, (3,3), activation = 'relu', input_shape=train_data[0].shape)(inputs)\n",
    "    pool = MaxPooling2D(pool_size=(2,2))(conv)\n",
    "    conv = Conv2D(2, (2,2), activation = 'relu')(pool)\n",
    "    pool = MaxPooling2D(pool_size=(2,2))(conv)\n",
    "    conv = Conv2D(3, (2,2), activation = 'relu')(pool)\n",
    "    pool = MaxPooling2D(pool_size=(3,3))(conv)\n",
    "\n",
    "    flatten = Flatten()(pool)\n",
    "    dense = Dense(32, activation='relu')(flatten)\n",
    "    outputs = Dense(10,activation='softmax')(dense)\n",
    "\n",
    "    model = Model(inputs=inputs, outputs=outputs)\n",
    "    model.compile(loss=\"categorical_crossentropy\", optimizer='adam',metrics=['categorical_accuracy'])\n",
    "\n",
    "    model.summary()\n",
    "    history = model.fit(train_data, labels, validation_split=0.8, epochs= EPOCHS, verbose=1)\n",
    "    \n",
    "    print('end of training')\n",
    "    print(\"--- %s seconds ---\" % (time.time() - start))\n"
   ]
  },
  {
   "cell_type": "code",
   "execution_count": null,
   "metadata": {
    "colab": {
     "base_uri": "https://localhost:8080/",
     "height": 462,
     "referenced_widgets": [
      "74f8e66e032d44c9a48ece1ff662e482",
      "b0ebfaec27074e6d859fa85eafc19789",
      "ed396ae2c04b4fc980e6880dea7e12d0",
      "af9524e0a5be4432a0e71cc56dd231d6",
      "ca639f3cb39c4991b866e98b7b9f0c23",
      "8f2a8c6491c5413fb654db38240415e6",
      "ef72491b020f4416898b57482fd2071a",
      "fb30780becc34214a94171ca8573b8e2"
     ]
    },
    "id": "3t3VMAkoyLLM",
    "outputId": "9cdedcb4-7915-4488-f2e2-d31beb3b8cb5"
   },
   "outputs": [
    {
     "name": "stdout",
     "output_type": "stream",
     "text": [
      "./scopa/scopa/new_deck/*.jpg\n"
     ]
    },
    {
     "data": {
      "application/vnd.jupyter.widget-view+json": {
       "model_id": "74f8e66e032d44c9a48ece1ff662e482",
       "version_major": 2,
       "version_minor": 0
      },
      "text/plain": [
       "HBox(children=(FloatProgress(value=0.0, max=7500.0), HTML(value='')))"
      ]
     },
     "metadata": {
      "tags": []
     },
     "output_type": "display_data"
    },
    {
     "name": "stdout",
     "output_type": "stream",
     "text": [
      "\n",
      "Accuracy test set:\t99.9%\n",
      "val_categorical_accuracy\n",
      "[0.9604173302650452, 0.9849335551261902, 0.9942834377288818, 0.9961667060852051, 0.995233416557312, 0.9970833659172058, 0.9988999962806702, 0.9994333386421204, 0.9994666576385498, 0.9994833469390869]\n",
      "categorical_accuracy\n",
      "[0.7816520929336548, 0.9866657853126526, 0.9936662316322327, 0.9945996403694153, 0.9977331757545471, 0.9945996403694153, 0.999133288860321, 0.9999333024024963, 1.0, 1.0]\n"
     ]
    },
    {
     "data": {
      "image/png": "[encoded data removed]",
      "text/plain": [
       "<Figure size 432x288 with 1 Axes>"
      ]
     },
     "metadata": {
      "needs_background": "light",
      "tags": []
     },
     "output_type": "display_data"
    },
    {
     "name": "stdout",
     "output_type": "stream",
     "text": [
      "----------------------------------------------\n"
     ]
    }
   ],
   "source": [
    "test_data, target = generate_cards(int(n_samples/10), 1, True)\n",
    "\n",
    "test_pred = model.predict(test_data)\n",
    "test_pred = np.array([np.argmax(test_pred[i]) for i in range(len(test_pred))])\n",
    "test_label = np.array([card_to_number(card) for card in target])\n",
    "test_label = np.array([np.argmax(test_label[i]) for i in range(len(test_label))])\n",
    "\n",
    "from sklearn import metrics\n",
    "\n",
    "print(f'Accuracy test set:\\t{metrics.accuracy_score(test_label, test_pred):.1%}')\n",
    "print('val_categorical_accuracy')\n",
    "print(history.history[\"val_categorical_accuracy\"])\n",
    "print('categorical_accuracy')\n",
    "print(history.history[\"categorical_accuracy\"])\n",
    "\n",
    "\n",
    "plt.plot(history.history[\"categorical_accuracy\"], label='Accuracy')\n",
    "plt.plot(history.history[\"val_categorical_accuracy\"], label='Val Accuracy')\n",
    "plt.xlabel('Epochs')\n",
    "plt.legend()\n",
    "plt.show()\n",
    "\n",
    "print('----------------------------------------------')"
   ]
  },
  {
   "cell_type": "code",
   "execution_count": null,
   "metadata": {
    "id": "PXwkIgfz56Oq"
   },
   "outputs": [],
   "source": [
    "save = False\n",
    "if save:\n",
    "  if on_colab:\n",
    "    model.save('./scopa/scopa/new_models/numb_model.h5') \n",
    "  else:\n",
    "    model.save('./new_models/numb_model.h5')"
   ]
  }
 ],
 "metadata": {
  "accelerator": "GPU",
  "colab": {
   "collapsed_sections": [],
   "name": "met1_number.ipynb",
   "provenance": [],
   "toc_visible": true
  },
  "kernelspec": {
   "display_name": "Python 3",
   "language": "python",
   "name": "python3"
  },
  "language_info": {
   "codemirror_mode": {
    "name": "ipython",
    "version": 3
   },
   "file_extension": ".py",
   "mimetype": "text/x-python",
   "name": "python",
   "nbconvert_exporter": "python",
   "pygments_lexer": "ipython3",
   "version": "3.7.9"
  },
  "widgets": {
   "application/vnd.jupyter.widget-state+json": {
    "01a557884d9e41b9bc0c14f6e7e47c69": {
     "model_module": "@jupyter-widgets/base",
     "model_name": "LayoutModel",
     "state": {
      "_model_module": "@jupyter-widgets/base",
      "_model_module_version": "1.2.0",
      "_model_name": "LayoutModel",
      "_view_count": null,
      "_view_module": "@jupyter-widgets/base",
      "_view_module_version": "1.2.0",
      "_view_name": "LayoutView",
      "align_content": null,
      "align_items": null,
      "align_self": null,
      "border": null,
      "bottom": null,
      "display": null,
      "flex": null,
      "flex_flow": null,
      "grid_area": null,
      "grid_auto_columns": null,
      "grid_auto_flow": null,
      "grid_auto_rows": null,
      "grid_column": null,
      "grid_gap": null,
      "grid_row": null,
      "grid_template_areas": null,
      "grid_template_columns": null,
      "grid_template_rows": null,
      "height": null,
      "justify_content": null,
      "justify_items": null,
      "left": null,
      "margin": null,
      "max_height": null,
      "max_width": null,
      "min_height": null,
      "min_width": null,
      "object_fit": null,
      "object_position": null,
      "order": null,
      "overflow": null,
      "overflow_x": null,
      "overflow_y": null,
      "padding": null,
      "right": null,
      "top": null,
      "visibility": null,
      "width": null
     }
    },
    "2b053333848f4fedbf33b6ff941a1b5a": {
     "model_module": "@jupyter-widgets/controls",
     "model_name": "DescriptionStyleModel",
     "state": {
      "_model_module": "@jupyter-widgets/controls",
      "_model_module_version": "1.5.0",
      "_model_name": "DescriptionStyleModel",
      "_view_count": null,
      "_view_module": "@jupyter-widgets/base",
      "_view_module_version": "1.2.0",
      "_view_name": "StyleView",
      "description_width": ""
     }
    },
    "446a9c1f55e34214be5035c39cc2c39d": {
     "model_module": "@jupyter-widgets/controls",
     "model_name": "ProgressStyleModel",
     "state": {
      "_model_module": "@jupyter-widgets/controls",
      "_model_module_version": "1.5.0",
      "_model_name": "ProgressStyleModel",
      "_view_count": null,
      "_view_module": "@jupyter-widgets/base",
      "_view_module_version": "1.2.0",
      "_view_name": "StyleView",
      "bar_color": null,
      "description_width": "initial"
     }
    },
    "510e711c0de24ddfa1018229c1686aa3": {
     "model_module": "@jupyter-widgets/base",
     "model_name": "LayoutModel",
     "state": {
      "_model_module": "@jupyter-widgets/base",
      "_model_module_version": "1.2.0",
      "_model_name": "LayoutModel",
      "_view_count": null,
      "_view_module": "@jupyter-widgets/base",
      "_view_module_version": "1.2.0",
      "_view_name": "LayoutView",
      "align_content": null,
      "align_items": null,
      "align_self": null,
      "border": null,
      "bottom": null,
      "display": null,
      "flex": null,
      "flex_flow": null,
      "grid_area": null,
      "grid_auto_columns": null,
      "grid_auto_flow": null,
      "grid_auto_rows": null,
      "grid_column": null,
      "grid_gap": null,
      "grid_row": null,
      "grid_template_areas": null,
      "grid_template_columns": null,
      "grid_template_rows": null,
      "height": null,
      "justify_content": null,
      "justify_items": null,
      "left": null,
      "margin": null,
      "max_height": null,
      "max_width": null,
      "min_height": null,
      "min_width": null,
      "object_fit": null,
      "object_position": null,
      "order": null,
      "overflow": null,
      "overflow_x": null,
      "overflow_y": null,
      "padding": null,
      "right": null,
      "top": null,
      "visibility": null,
      "width": null
     }
    },
    "65f00fe4cb154fabb9d0dcaba265b212": {
     "model_module": "@jupyter-widgets/controls",
     "model_name": "FloatProgressModel",
     "state": {
      "_dom_classes": [],
      "_model_module": "@jupyter-widgets/controls",
      "_model_module_version": "1.5.0",
      "_model_name": "FloatProgressModel",
      "_view_count": null,
      "_view_module": "@jupyter-widgets/controls",
      "_view_module_version": "1.5.0",
      "_view_name": "ProgressView",
      "bar_style": "success",
      "description": "100%",
      "description_tooltip": null,
      "layout": "IPY_MODEL_f291815cb74b43a6b55699d5870fd35a",
      "max": 75000,
      "min": 0,
      "orientation": "horizontal",
      "style": "IPY_MODEL_446a9c1f55e34214be5035c39cc2c39d",
      "value": 75000
     }
    },
    "74f8e66e032d44c9a48ece1ff662e482": {
     "model_module": "@jupyter-widgets/controls",
     "model_name": "HBoxModel",
     "state": {
      "_dom_classes": [],
      "_model_module": "@jupyter-widgets/controls",
      "_model_module_version": "1.5.0",
      "_model_name": "HBoxModel",
      "_view_count": null,
      "_view_module": "@jupyter-widgets/controls",
      "_view_module_version": "1.5.0",
      "_view_name": "HBoxView",
      "box_style": "",
      "children": [
       "IPY_MODEL_ed396ae2c04b4fc980e6880dea7e12d0",
       "IPY_MODEL_af9524e0a5be4432a0e71cc56dd231d6"
      ],
      "layout": "IPY_MODEL_b0ebfaec27074e6d859fa85eafc19789"
     }
    },
    "83c23bca7a1b4227a555bec6e00f96c7": {
     "model_module": "@jupyter-widgets/controls",
     "model_name": "HTMLModel",
     "state": {
      "_dom_classes": [],
      "_model_module": "@jupyter-widgets/controls",
      "_model_module_version": "1.5.0",
      "_model_name": "HTMLModel",
      "_view_count": null,
      "_view_module": "@jupyter-widgets/controls",
      "_view_module_version": "1.5.0",
      "_view_name": "HTMLView",
      "description": "",
      "description_tooltip": null,
      "layout": "IPY_MODEL_510e711c0de24ddfa1018229c1686aa3",
      "placeholder": "​",
      "style": "IPY_MODEL_2b053333848f4fedbf33b6ff941a1b5a",
      "value": " 75000/75000 [01:22&lt;00:00, 908.57it/s]"
     }
    },
    "8f2a8c6491c5413fb654db38240415e6": {
     "model_module": "@jupyter-widgets/base",
     "model_name": "LayoutModel",
     "state": {
      "_model_module": "@jupyter-widgets/base",
      "_model_module_version": "1.2.0",
      "_model_name": "LayoutModel",
      "_view_count": null,
      "_view_module": "@jupyter-widgets/base",
      "_view_module_version": "1.2.0",
      "_view_name": "LayoutView",
      "align_content": null,
      "align_items": null,
      "align_self": null,
      "border": null,
      "bottom": null,
      "display": null,
      "flex": null,
      "flex_flow": null,
      "grid_area": null,
      "grid_auto_columns": null,
      "grid_auto_flow": null,
      "grid_auto_rows": null,
      "grid_column": null,
      "grid_gap": null,
      "grid_row": null,
      "grid_template_areas": null,
      "grid_template_columns": null,
      "grid_template_rows": null,
      "height": null,
      "justify_content": null,
      "justify_items": null,
      "left": null,
      "margin": null,
      "max_height": null,
      "max_width": null,
      "min_height": null,
      "min_width": null,
      "object_fit": null,
      "object_position": null,
      "order": null,
      "overflow": null,
      "overflow_x": null,
      "overflow_y": null,
      "padding": null,
      "right": null,
      "top": null,
      "visibility": null,
      "width": null
     }
    },
    "af9524e0a5be4432a0e71cc56dd231d6": {
     "model_module": "@jupyter-widgets/controls",
     "model_name": "HTMLModel",
     "state": {
      "_dom_classes": [],
      "_model_module": "@jupyter-widgets/controls",
      "_model_module_version": "1.5.0",
      "_model_name": "HTMLModel",
      "_view_count": null,
      "_view_module": "@jupyter-widgets/controls",
      "_view_module_version": "1.5.0",
      "_view_name": "HTMLView",
      "description": "",
      "description_tooltip": null,
      "layout": "IPY_MODEL_fb30780becc34214a94171ca8573b8e2",
      "placeholder": "​",
      "style": "IPY_MODEL_ef72491b020f4416898b57482fd2071a",
      "value": " 7500/7500 [00:08&lt;00:00, 854.60it/s]"
     }
    },
    "b0ebfaec27074e6d859fa85eafc19789": {
     "model_module": "@jupyter-widgets/base",
     "model_name": "LayoutModel",
     "state": {
      "_model_module": "@jupyter-widgets/base",
      "_model_module_version": "1.2.0",
      "_model_name": "LayoutModel",
      "_view_count": null,
      "_view_module": "@jupyter-widgets/base",
      "_view_module_version": "1.2.0",
      "_view_name": "LayoutView",
      "align_content": null,
      "align_items": null,
      "align_self": null,
      "border": null,
      "bottom": null,
      "display": null,
      "flex": null,
      "flex_flow": null,
      "grid_area": null,
      "grid_auto_columns": null,
      "grid_auto_flow": null,
      "grid_auto_rows": null,
      "grid_column": null,
      "grid_gap": null,
      "grid_row": null,
      "grid_template_areas": null,
      "grid_template_columns": null,
      "grid_template_rows": null,
      "height": null,
      "justify_content": null,
      "justify_items": null,
      "left": null,
      "margin": null,
      "max_height": null,
      "max_width": null,
      "min_height": null,
      "min_width": null,
      "object_fit": null,
      "object_position": null,
      "order": null,
      "overflow": null,
      "overflow_x": null,
      "overflow_y": null,
      "padding": null,
      "right": null,
      "top": null,
      "visibility": null,
      "width": null
     }
    },
    "b7091e68e302454f98f17ccce220529d": {
     "model_module": "@jupyter-widgets/controls",
     "model_name": "HBoxModel",
     "state": {
      "_dom_classes": [],
      "_model_module": "@jupyter-widgets/controls",
      "_model_module_version": "1.5.0",
      "_model_name": "HBoxModel",
      "_view_count": null,
      "_view_module": "@jupyter-widgets/controls",
      "_view_module_version": "1.5.0",
      "_view_name": "HBoxView",
      "box_style": "",
      "children": [
       "IPY_MODEL_65f00fe4cb154fabb9d0dcaba265b212",
       "IPY_MODEL_83c23bca7a1b4227a555bec6e00f96c7"
      ],
      "layout": "IPY_MODEL_01a557884d9e41b9bc0c14f6e7e47c69"
     }
    },
    "ca639f3cb39c4991b866e98b7b9f0c23": {
     "model_module": "@jupyter-widgets/controls",
     "model_name": "ProgressStyleModel",
     "state": {
      "_model_module": "@jupyter-widgets/controls",
      "_model_module_version": "1.5.0",
      "_model_name": "ProgressStyleModel",
      "_view_count": null,
      "_view_module": "@jupyter-widgets/base",
      "_view_module_version": "1.2.0",
      "_view_name": "StyleView",
      "bar_color": null,
      "description_width": "initial"
     }
    },
    "ed396ae2c04b4fc980e6880dea7e12d0": {
     "model_module": "@jupyter-widgets/controls",
     "model_name": "FloatProgressModel",
     "state": {
      "_dom_classes": [],
      "_model_module": "@jupyter-widgets/controls",
      "_model_module_version": "1.5.0",
      "_model_name": "FloatProgressModel",
      "_view_count": null,
      "_view_module": "@jupyter-widgets/controls",
      "_view_module_version": "1.5.0",
      "_view_name": "ProgressView",
      "bar_style": "success",
      "description": "100%",
      "description_tooltip": null,
      "layout": "IPY_MODEL_8f2a8c6491c5413fb654db38240415e6",
      "max": 7500,
      "min": 0,
      "orientation": "horizontal",
      "style": "IPY_MODEL_ca639f3cb39c4991b866e98b7b9f0c23",
      "value": 7500
     }
    },
    "ef72491b020f4416898b57482fd2071a": {
     "model_module": "@jupyter-widgets/controls",
     "model_name": "DescriptionStyleModel",
     "state": {
      "_model_module": "@jupyter-widgets/controls",
      "_model_module_version": "1.5.0",
      "_model_name": "DescriptionStyleModel",
      "_view_count": null,
      "_view_module": "@jupyter-widgets/base",
      "_view_module_version": "1.2.0",
      "_view_name": "StyleView",
      "description_width": ""
     }
    },
    "f291815cb74b43a6b55699d5870fd35a": {
     "model_module": "@jupyter-widgets/base",
     "model_name": "LayoutModel",
     "state": {
      "_model_module": "@jupyter-widgets/base",
      "_model_module_version": "1.2.0",
      "_model_name": "LayoutModel",
      "_view_count": null,
      "_view_module": "@jupyter-widgets/base",
      "_view_module_version": "1.2.0",
      "_view_name": "LayoutView",
      "align_content": null,
      "align_items": null,
      "align_self": null,
      "border": null,
      "bottom": null,
      "display": null,
      "flex": null,
      "flex_flow": null,
      "grid_area": null,
      "grid_auto_columns": null,
      "grid_auto_flow": null,
      "grid_auto_rows": null,
      "grid_column": null,
      "grid_gap": null,
      "grid_row": null,
      "grid_template_areas": null,
      "grid_template_columns": null,
      "grid_template_rows": null,
      "height": null,
      "justify_content": null,
      "justify_items": null,
      "left": null,
      "margin": null,
      "max_height": null,
      "max_width": null,
      "min_height": null,
      "min_width": null,
      "object_fit": null,
      "object_position": null,
      "order": null,
      "overflow": null,
      "overflow_x": null,
      "overflow_y": null,
      "padding": null,
      "right": null,
      "top": null,
      "visibility": null,
      "width": null
     }
    },
    "fb30780becc34214a94171ca8573b8e2": {
     "model_module": "@jupyter-widgets/base",
     "model_name": "LayoutModel",
     "state": {
      "_model_module": "@jupyter-widgets/base",
      "_model_module_version": "1.2.0",
      "_model_name": "LayoutModel",
      "_view_count": null,
      "_view_module": "@jupyter-widgets/base",
      "_view_module_version": "1.2.0",
      "_view_name": "LayoutView",
      "align_content": null,
      "align_items": null,
      "align_self": null,
      "border": null,
      "bottom": null,
      "display": null,
      "flex": null,
      "flex_flow": null,
      "grid_area": null,
      "grid_auto_columns": null,
      "grid_auto_flow": null,
      "grid_auto_rows": null,
      "grid_column": null,
      "grid_gap": null,
      "grid_row": null,
      "grid_template_areas": null,
      "grid_template_columns": null,
      "grid_template_rows": null,
      "height": null,
      "justify_content": null,
      "justify_items": null,
      "left": null,
      "margin": null,
      "max_height": null,
      "max_width": null,
      "min_height": null,
      "min_width": null,
      "object_fit": null,
      "object_position": null,
      "order": null,
      "overflow": null,
      "overflow_x": null,
      "overflow_y": null,
      "padding": null,
      "right": null,
      "top": null,
      "visibility": null,
      "width": null
     }
    }
   }
  }
 },
 "nbformat": 4,
 "nbformat_minor": 1
}
