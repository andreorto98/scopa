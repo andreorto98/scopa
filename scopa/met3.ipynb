{
 "cells": [
  {
   "cell_type": "markdown",
   "metadata": {
    "id": "KjUE9JHxd6su"
   },
   "source": [
    "#Training model 3\n"
   ]
  },
  {
   "cell_type": "code",
   "execution_count": 1,
   "metadata": {
    "id": "Ihi4OoMBdynA"
   },
   "outputs": [],
   "source": [
    "import numpy as np\n",
    "import cv2\n",
    "import sys\n",
    "import random\n",
    "import glob\n",
    "import re\n",
    "import time\n",
    "import os\n",
    "from tqdm.notebook import tqdm as log_progress\n",
    "from matplotlib import pyplot as plt\n",
    "\n",
    "from tensorflow.keras.layers import Dense, Input, Conv2D, MaxPooling2D, Flatten\n",
    "from tensorflow.keras.models import Model, load_model"
   ]
  },
  {
   "cell_type": "markdown",
   "metadata": {
    "id": "127q-3fPdFea"
   },
   "source": [
    "###Complete this basing on where you are running the notebook:"
   ]
  },
  {
   "cell_type": "code",
   "execution_count": 2,
   "metadata": {
    "colab": {
     "base_uri": "https://localhost:8080/"
    },
    "id": "zGsjtpJjnZgs",
    "outputId": "533b98e8-1359-462a-c024-9a450ad277fc"
   },
   "outputs": [
    {
     "name": "stdout",
     "output_type": "stream",
     "text": [
      "Cloning into 'scopa'...\n",
      "remote: Enumerating objects: 389, done.\u001b[K\n",
      "remote: Counting objects: 100% (389/389), done.\u001b[K\n",
      "remote: Compressing objects: 100% (306/306), done.\u001b[K\n",
      "remote: Total 389 (delta 123), reused 337 (delta 76), pack-reused 0\u001b[K\n",
      "Receiving objects: 100% (389/389), 3.67 MiB | 29.84 MiB/s, done.\n",
      "Resolving deltas: 100% (123/123), done.\n"
     ]
    }
   ],
   "source": [
    "on_colab = True\n",
    "EPOCHS = 55\n",
    "LEN_TRAINING_DATA = 75000\n",
    "if on_colab:\n",
    "    !git clone https://github.com/andreorto98/scopa.git\n",
    "    path_to_deck = './scopa/scopa/new_deck/'\n",
    "if not on_colab:\n",
    "    path_to_deck = './new_deck/'"
   ]
  },
  {
   "cell_type": "code",
   "execution_count": 3,
   "metadata": {
    "id": "4fjWJ1Rid1Tl"
   },
   "outputs": [],
   "source": [
    "def transform_img(img, angle = 0, scale = 1, tr = (0,0)):\n",
    "  input_img_shape = img.shape\n",
    "  img_center = (int(input_img_shape[0]/2), int(input_img_shape[1]/2))\n",
    "  trasl_mat = np.zeros((2,3))\n",
    "  trasl_mat[0,2]=tr[0]\n",
    "  trasl_mat[1,2]=tr[1]\n",
    "  trasl_mat[0,0] = trasl_mat[1][1] = 1\n",
    "  img = cv2.warpAffine(img, trasl_mat, img.shape[0:2], flags=cv2.INTER_LINEAR)\n",
    "  rot_mat = cv2.getRotationMatrix2D(img_center, angle, scale)\n",
    "  img = cv2.warpAffine(img, rot_mat, img.shape[0:2], flags=cv2.INTER_LINEAR)\n",
    "  return img.reshape(input_img_shape)\n",
    "\n",
    "def generate_cards(n=1, layers=3, ang = True, traslate=False):\n",
    "    cards = np.random.randint(1,41,n, np.uint8)\n",
    "    if ang:\n",
    "        angles= np.random.uniform(0,360,n)\n",
    "    else:\n",
    "        angles = np.full(n, 0.)\n",
    "    scales= np.random.uniform(0.9,1.1,n)\n",
    "    if layers == 1:\n",
    "        print(path_to_deck+\"*.jpg\")\n",
    "        inp_images = sorted([file for file in glob.glob(path_to_deck+\"*.jpg\")], key = string_to_n_card)\n",
    "        inp_images = [cv2.imread(file, cv2.IMREAD_GRAYSCALE).reshape(256,256,1) for file in inp_images]\n",
    "    elif layers == 3:\n",
    "        inp_images = sorted([file for file in glob.glob(\"./deck0/*.jpg\")], key = string_to_n_card)\n",
    "        inp_images = [cv2.imread(file)[232:488,232:488] for file in inp_images]\n",
    "    image_shape = inp_images[0].shape\n",
    "\n",
    "    if traslate:\n",
    "        marg = 5\n",
    "        max_tr_x = int(image_shape[0]/2-image_shape[0]/marg)\n",
    "        max_tr_y = int(image_shape[1]/2-image_shape[1]/marg)\n",
    "        tr_x = np.random.randint(0,max_tr_x,n)\n",
    "        tr_y = np.random.randint(0,max_tr_y,n)\n",
    "    else:\n",
    "        tr_x = np.zeros(n)\n",
    "        tr_y = np.zeros(n)\n",
    "\n",
    "    images = [transform_img(inp_images[cards[i]-1], angles[i], scales[i], (tr_x[i], tr_y[i]))\n",
    "              for i in log_progress(range(len(cards)))]\n",
    "\n",
    "    return np.array(images), np.array(cards)\n",
    "\n",
    "\n",
    "def string_to_n_card(str):\n",
    "    if str.startswith('.'):\n",
    "         words = re.split('_|/|.j', str)[-3:-1]\n",
    "    else: words = str.split('_')\n",
    "    suit_to_n = {'hearts':0, 'diamonds':10, 'clubs':20, 'spades':30}\n",
    "    return int(words[0])+suit_to_n[words[1]]"
   ]
  },
  {
   "cell_type": "code",
   "execution_count": 4,
   "metadata": {
    "colab": {
     "base_uri": "https://localhost:8080/"
    },
    "id": "tNa6FUhIrlpn",
    "outputId": "430e23ba-fdfa-4b61-b6d7-20421a774424"
   },
   "outputs": [
    {
     "name": "stdout",
     "output_type": "stream",
     "text": [
      "sample_data  scopa\n"
     ]
    }
   ],
   "source": [
    "!ls"
   ]
  },
  {
   "cell_type": "code",
   "execution_count": 5,
   "metadata": {
    "colab": {
     "base_uri": "https://localhost:8080/",
     "height": 148,
     "referenced_widgets": [
      "9756c9472ceb40eeb9c8cb5d0eb47132",
      "5a46f3640292468e87a256671dd5b54c",
      "8a4eddd3b9f5460bbf75cd48b76bf73e",
      "f6d9e51d39d24f739f5bbbf3823d81be",
      "33f0f90b72a54b308149dc80f41898f8",
      "af00fb66cd6e4c8cac13c522406dba32",
      "66ee6f0801d0402991d110eb2faeee84",
      "5b786fcd4d8548cab5cbd5533831399c"
     ]
    },
    "id": "7su59PYH2G1j",
    "outputId": "b8273d3a-1c0b-49ea-ede8-5a040195508b"
   },
   "outputs": [
    {
     "name": "stdout",
     "output_type": "stream",
     "text": [
      "start time1\n",
      "./scopa/scopa/new_deck/*.jpg\n"
     ]
    },
    {
     "data": {
      "application/vnd.jupyter.widget-view+json": {
       "model_id": "9756c9472ceb40eeb9c8cb5d0eb47132",
       "version_major": 2,
       "version_minor": 0
      },
      "text/plain": [
       "HBox(children=(FloatProgress(value=0.0, max=75000.0), HTML(value='')))"
      ]
     },
     "metadata": {
      "tags": []
     },
     "output_type": "display_data"
    },
    {
     "name": "stdout",
     "output_type": "stream",
     "text": [
      "\n",
      "(75000, 256, 256, 1) (75000,)\n",
      "cards_generated\n",
      "--- 76.9101209640503 seconds ---\n"
     ]
    }
   ],
   "source": [
    "n_samples = LEN_TRAINING_DATA\n",
    "\n",
    "# con 10000 impiega 70s per laprima parte e usa circa 10 GB\n",
    "\n",
    "print('start time1')\n",
    "start = time.time()\n",
    "\n",
    "# Generate training data1\n",
    "train_data, target = generate_cards(n_samples, 1, True)\n",
    "\n",
    "print(train_data.shape, target.shape)\n",
    "\n",
    "print('cards_generated')\n",
    "print(\"--- %s seconds ---\" % (time.time() - start))"
   ]
  },
  {
   "cell_type": "code",
   "execution_count": 6,
   "metadata": {
    "colab": {
     "base_uri": "https://localhost:8080/"
    },
    "id": "QQKqZZm9rnSH",
    "outputId": "b7132002-c178-4aaf-ebcd-a7fcb2cc3076"
   },
   "outputs": [
    {
     "name": "stdout",
     "output_type": "stream",
     "text": [
      "Dimension of train_data (MB): 4915 (75000, 256, 256, 1)\n",
      "Model: \"model\"\n",
      "__________________________________________________________________________________________________\n",
      "Layer (type)                    Output Shape         Param #     Connected to                     \n",
      "==================================================================================================\n",
      "input_1 (InputLayer)            [(None, 256, 256, 1) 0                                            \n",
      "__________________________________________________________________________________________________\n",
      "conv2d (Conv2D)                 (None, 255, 255, 3)  15          input_1[0][0]                    \n",
      "__________________________________________________________________________________________________\n",
      "max_pooling2d (MaxPooling2D)    (None, 127, 127, 3)  0           conv2d[0][0]                     \n",
      "__________________________________________________________________________________________________\n",
      "conv2d_1 (Conv2D)               (None, 126, 126, 2)  26          max_pooling2d[0][0]              \n",
      "__________________________________________________________________________________________________\n",
      "max_pooling2d_1 (MaxPooling2D)  (None, 63, 63, 2)    0           conv2d_1[0][0]                   \n",
      "__________________________________________________________________________________________________\n",
      "conv2d_2 (Conv2D)               (None, 62, 62, 2)    18          max_pooling2d_1[0][0]            \n",
      "__________________________________________________________________________________________________\n",
      "max_pooling2d_2 (MaxPooling2D)  (None, 20, 20, 2)    0           conv2d_2[0][0]                   \n",
      "__________________________________________________________________________________________________\n",
      "flatten (Flatten)               (None, 800)          0           max_pooling2d_2[0][0]            \n",
      "__________________________________________________________________________________________________\n",
      "dense (Dense)                   (None, 64)           51264       flatten[0][0]                    \n",
      "__________________________________________________________________________________________________\n",
      "dense_1 (Dense)                 (None, 10)           650         dense[0][0]                      \n",
      "__________________________________________________________________________________________________\n",
      "dense_2 (Dense)                 (None, 4)            260         dense[0][0]                      \n",
      "==================================================================================================\n",
      "Total params: 52,233\n",
      "Trainable params: 52,233\n",
      "Non-trainable params: 0\n",
      "__________________________________________________________________________________________________\n",
      "Epoch 1/55\n",
      "469/469 [==============================] - 21s 29ms/step - loss: 22.3846 - dense_1_loss: 11.9295 - dense_2_loss: 10.4551 - dense_1_categorical_accuracy: 0.2492 - dense_2_categorical_accuracy: 0.2784 - val_loss: 3.2919 - val_dense_1_loss: 1.8560 - val_dense_2_loss: 1.4359 - val_dense_1_categorical_accuracy: 0.3074 - val_dense_2_categorical_accuracy: 0.3038\n",
      "Epoch 2/55\n",
      "469/469 [==============================] - 13s 28ms/step - loss: 3.1089 - dense_1_loss: 1.6810 - dense_2_loss: 1.4279 - dense_1_categorical_accuracy: 0.3737 - dense_2_categorical_accuracy: 0.3195 - val_loss: 2.7366 - val_dense_1_loss: 1.3221 - val_dense_2_loss: 1.4145 - val_dense_1_categorical_accuracy: 0.4809 - val_dense_2_categorical_accuracy: 0.3331\n",
      "Epoch 3/55\n",
      "469/469 [==============================] - 13s 28ms/step - loss: 2.4696 - dense_1_loss: 1.1030 - dense_2_loss: 1.3666 - dense_1_categorical_accuracy: 0.5772 - dense_2_categorical_accuracy: 0.3395 - val_loss: 1.9624 - val_dense_1_loss: 0.5484 - val_dense_2_loss: 1.4140 - val_dense_1_categorical_accuracy: 0.8092 - val_dense_2_categorical_accuracy: 0.3407\n",
      "Epoch 4/55\n",
      "469/469 [==============================] - 13s 27ms/step - loss: 1.6682 - dense_1_loss: 0.3746 - dense_2_loss: 1.2936 - dense_1_categorical_accuracy: 0.8776 - dense_2_categorical_accuracy: 0.3657 - val_loss: 1.3416 - val_dense_1_loss: 0.0979 - val_dense_2_loss: 1.2437 - val_dense_1_categorical_accuracy: 0.9662 - val_dense_2_categorical_accuracy: 0.3748\n",
      "Epoch 5/55\n",
      "469/469 [==============================] - 13s 27ms/step - loss: 1.2701 - dense_1_loss: 0.0666 - dense_2_loss: 1.2035 - dense_1_categorical_accuracy: 0.9801 - dense_2_categorical_accuracy: 0.4089 - val_loss: 1.1549 - val_dense_1_loss: 0.0468 - val_dense_2_loss: 1.1082 - val_dense_1_categorical_accuracy: 0.9864 - val_dense_2_categorical_accuracy: 0.4531\n",
      "Epoch 6/55\n",
      "469/469 [==============================] - 13s 28ms/step - loss: 1.0609 - dense_1_loss: 0.0334 - dense_2_loss: 1.0274 - dense_1_categorical_accuracy: 0.9912 - dense_2_categorical_accuracy: 0.5018 - val_loss: 0.9384 - val_dense_1_loss: 0.0291 - val_dense_2_loss: 0.9093 - val_dense_1_categorical_accuracy: 0.9908 - val_dense_2_categorical_accuracy: 0.5728\n",
      "Epoch 7/55\n",
      "469/469 [==============================] - 13s 28ms/step - loss: 0.8728 - dense_1_loss: 0.0237 - dense_2_loss: 0.8490 - dense_1_categorical_accuracy: 0.9927 - dense_2_categorical_accuracy: 0.5907 - val_loss: 0.7967 - val_dense_1_loss: 0.0631 - val_dense_2_loss: 0.7335 - val_dense_1_categorical_accuracy: 0.9770 - val_dense_2_categorical_accuracy: 0.6464\n",
      "Epoch 8/55\n",
      "469/469 [==============================] - 13s 27ms/step - loss: 0.7272 - dense_1_loss: 0.0206 - dense_2_loss: 0.7067 - dense_1_categorical_accuracy: 0.9935 - dense_2_categorical_accuracy: 0.6658 - val_loss: 0.6279 - val_dense_1_loss: 0.0240 - val_dense_2_loss: 0.6040 - val_dense_1_categorical_accuracy: 0.9915 - val_dense_2_categorical_accuracy: 0.7160\n",
      "Epoch 9/55\n",
      "469/469 [==============================] - 13s 27ms/step - loss: 0.6030 - dense_1_loss: 0.0187 - dense_2_loss: 0.5843 - dense_1_categorical_accuracy: 0.9929 - dense_2_categorical_accuracy: 0.7155 - val_loss: 0.5837 - val_dense_1_loss: 0.0198 - val_dense_2_loss: 0.5640 - val_dense_1_categorical_accuracy: 0.9940 - val_dense_2_categorical_accuracy: 0.7262\n",
      "Epoch 10/55\n",
      "469/469 [==============================] - 13s 28ms/step - loss: 0.5272 - dense_1_loss: 0.0141 - dense_2_loss: 0.5132 - dense_1_categorical_accuracy: 0.9963 - dense_2_categorical_accuracy: 0.7473 - val_loss: 0.5698 - val_dense_1_loss: 0.0159 - val_dense_2_loss: 0.5539 - val_dense_1_categorical_accuracy: 0.9946 - val_dense_2_categorical_accuracy: 0.7357\n",
      "Epoch 11/55\n",
      "469/469 [==============================] - 13s 28ms/step - loss: 0.4632 - dense_1_loss: 0.0095 - dense_2_loss: 0.4537 - dense_1_categorical_accuracy: 0.9977 - dense_2_categorical_accuracy: 0.7789 - val_loss: 0.4947 - val_dense_1_loss: 0.0106 - val_dense_2_loss: 0.4841 - val_dense_1_categorical_accuracy: 0.9968 - val_dense_2_categorical_accuracy: 0.7654\n",
      "Epoch 12/55\n",
      "469/469 [==============================] - 13s 28ms/step - loss: 0.4167 - dense_1_loss: 0.0076 - dense_2_loss: 0.4091 - dense_1_categorical_accuracy: 0.9981 - dense_2_categorical_accuracy: 0.7990 - val_loss: 0.4310 - val_dense_1_loss: 0.0111 - val_dense_2_loss: 0.4199 - val_dense_1_categorical_accuracy: 0.9959 - val_dense_2_categorical_accuracy: 0.7972\n",
      "Epoch 13/55\n",
      "469/469 [==============================] - 13s 28ms/step - loss: 0.3703 - dense_1_loss: 0.0076 - dense_2_loss: 0.3626 - dense_1_categorical_accuracy: 0.9974 - dense_2_categorical_accuracy: 0.8283 - val_loss: 0.3870 - val_dense_1_loss: 0.0075 - val_dense_2_loss: 0.3795 - val_dense_1_categorical_accuracy: 0.9979 - val_dense_2_categorical_accuracy: 0.8220\n",
      "Epoch 14/55\n",
      "469/469 [==============================] - 13s 28ms/step - loss: 0.3528 - dense_1_loss: 0.0115 - dense_2_loss: 0.3413 - dense_1_categorical_accuracy: 0.9964 - dense_2_categorical_accuracy: 0.8383 - val_loss: 0.3950 - val_dense_1_loss: 0.0098 - val_dense_2_loss: 0.3851 - val_dense_1_categorical_accuracy: 0.9969 - val_dense_2_categorical_accuracy: 0.8154\n",
      "Epoch 15/55\n",
      "469/469 [==============================] - 13s 28ms/step - loss: 0.3112 - dense_1_loss: 0.0080 - dense_2_loss: 0.3032 - dense_1_categorical_accuracy: 0.9976 - dense_2_categorical_accuracy: 0.8594 - val_loss: 0.3653 - val_dense_1_loss: 0.0207 - val_dense_2_loss: 0.3446 - val_dense_1_categorical_accuracy: 0.9934 - val_dense_2_categorical_accuracy: 0.8432\n",
      "Epoch 16/55\n",
      "469/469 [==============================] - 13s 27ms/step - loss: 0.2966 - dense_1_loss: 0.0093 - dense_2_loss: 0.2873 - dense_1_categorical_accuracy: 0.9971 - dense_2_categorical_accuracy: 0.8748 - val_loss: 0.3289 - val_dense_1_loss: 0.0132 - val_dense_2_loss: 0.3157 - val_dense_1_categorical_accuracy: 0.9954 - val_dense_2_categorical_accuracy: 0.8666\n",
      "Epoch 17/55\n",
      "469/469 [==============================] - 13s 27ms/step - loss: 0.2595 - dense_1_loss: 0.0080 - dense_2_loss: 0.2515 - dense_1_categorical_accuracy: 0.9977 - dense_2_categorical_accuracy: 0.8913 - val_loss: 0.2650 - val_dense_1_loss: 0.0098 - val_dense_2_loss: 0.2551 - val_dense_1_categorical_accuracy: 0.9968 - val_dense_2_categorical_accuracy: 0.8897\n",
      "Epoch 18/55\n",
      "469/469 [==============================] - 13s 28ms/step - loss: 0.2166 - dense_1_loss: 0.0084 - dense_2_loss: 0.2082 - dense_1_categorical_accuracy: 0.9971 - dense_2_categorical_accuracy: 0.9123 - val_loss: 0.2673 - val_dense_1_loss: 0.0080 - val_dense_2_loss: 0.2593 - val_dense_1_categorical_accuracy: 0.9970 - val_dense_2_categorical_accuracy: 0.8929\n",
      "Epoch 19/55\n",
      "469/469 [==============================] - 13s 28ms/step - loss: 0.2045 - dense_1_loss: 0.0067 - dense_2_loss: 0.1978 - dense_1_categorical_accuracy: 0.9979 - dense_2_categorical_accuracy: 0.9196 - val_loss: 0.2318 - val_dense_1_loss: 0.0150 - val_dense_2_loss: 0.2168 - val_dense_1_categorical_accuracy: 0.9943 - val_dense_2_categorical_accuracy: 0.9119\n",
      "Epoch 20/55\n",
      "469/469 [==============================] - 13s 28ms/step - loss: 0.1670 - dense_1_loss: 0.0077 - dense_2_loss: 0.1593 - dense_1_categorical_accuracy: 0.9971 - dense_2_categorical_accuracy: 0.9373 - val_loss: 0.2554 - val_dense_1_loss: 0.0048 - val_dense_2_loss: 0.2506 - val_dense_1_categorical_accuracy: 0.9983 - val_dense_2_categorical_accuracy: 0.9054\n",
      "Epoch 21/55\n",
      "469/469 [==============================] - 13s 28ms/step - loss: 0.1864 - dense_1_loss: 0.0154 - dense_2_loss: 0.1711 - dense_1_categorical_accuracy: 0.9952 - dense_2_categorical_accuracy: 0.9325 - val_loss: 0.2226 - val_dense_1_loss: 0.0131 - val_dense_2_loss: 0.2095 - val_dense_1_categorical_accuracy: 0.9959 - val_dense_2_categorical_accuracy: 0.9180\n",
      "Epoch 22/55\n",
      "469/469 [==============================] - 13s 27ms/step - loss: 0.1486 - dense_1_loss: 0.0080 - dense_2_loss: 0.1406 - dense_1_categorical_accuracy: 0.9974 - dense_2_categorical_accuracy: 0.9438 - val_loss: 0.1711 - val_dense_1_loss: 0.0057 - val_dense_2_loss: 0.1653 - val_dense_1_categorical_accuracy: 0.9982 - val_dense_2_categorical_accuracy: 0.9384\n",
      "Epoch 23/55\n",
      "469/469 [==============================] - 13s 28ms/step - loss: 0.1156 - dense_1_loss: 0.0044 - dense_2_loss: 0.1111 - dense_1_categorical_accuracy: 0.9985 - dense_2_categorical_accuracy: 0.9563 - val_loss: 0.1964 - val_dense_1_loss: 0.0060 - val_dense_2_loss: 0.1904 - val_dense_1_categorical_accuracy: 0.9984 - val_dense_2_categorical_accuracy: 0.9268\n",
      "Epoch 24/55\n",
      "469/469 [==============================] - 13s 28ms/step - loss: 0.1152 - dense_1_loss: 0.0077 - dense_2_loss: 0.1075 - dense_1_categorical_accuracy: 0.9985 - dense_2_categorical_accuracy: 0.9584 - val_loss: 0.1760 - val_dense_1_loss: 0.0110 - val_dense_2_loss: 0.1651 - val_dense_1_categorical_accuracy: 0.9969 - val_dense_2_categorical_accuracy: 0.9400\n",
      "Epoch 25/55\n",
      "469/469 [==============================] - 13s 28ms/step - loss: 0.1132 - dense_1_loss: 0.0041 - dense_2_loss: 0.1091 - dense_1_categorical_accuracy: 0.9988 - dense_2_categorical_accuracy: 0.9547 - val_loss: 0.1837 - val_dense_1_loss: 0.0108 - val_dense_2_loss: 0.1729 - val_dense_1_categorical_accuracy: 0.9962 - val_dense_2_categorical_accuracy: 0.9419\n",
      "Epoch 26/55\n",
      "469/469 [==============================] - 13s 28ms/step - loss: 0.0849 - dense_1_loss: 0.0036 - dense_2_loss: 0.0813 - dense_1_categorical_accuracy: 0.9987 - dense_2_categorical_accuracy: 0.9708 - val_loss: 0.1637 - val_dense_1_loss: 0.0063 - val_dense_2_loss: 0.1574 - val_dense_1_categorical_accuracy: 0.9981 - val_dense_2_categorical_accuracy: 0.9470\n",
      "Epoch 27/55\n",
      "469/469 [==============================] - 13s 28ms/step - loss: 0.0948 - dense_1_loss: 0.0091 - dense_2_loss: 0.0857 - dense_1_categorical_accuracy: 0.9969 - dense_2_categorical_accuracy: 0.9685 - val_loss: 0.1724 - val_dense_1_loss: 0.0069 - val_dense_2_loss: 0.1655 - val_dense_1_categorical_accuracy: 0.9980 - val_dense_2_categorical_accuracy: 0.9430\n",
      "Epoch 28/55\n",
      "469/469 [==============================] - 13s 28ms/step - loss: 0.1018 - dense_1_loss: 0.0085 - dense_2_loss: 0.0932 - dense_1_categorical_accuracy: 0.9972 - dense_2_categorical_accuracy: 0.9656 - val_loss: 0.1529 - val_dense_1_loss: 0.0105 - val_dense_2_loss: 0.1424 - val_dense_1_categorical_accuracy: 0.9971 - val_dense_2_categorical_accuracy: 0.9494\n",
      "Epoch 29/55\n",
      "469/469 [==============================] - 13s 28ms/step - loss: 0.0771 - dense_1_loss: 0.0044 - dense_2_loss: 0.0728 - dense_1_categorical_accuracy: 0.9990 - dense_2_categorical_accuracy: 0.9727 - val_loss: 0.1431 - val_dense_1_loss: 0.0137 - val_dense_2_loss: 0.1295 - val_dense_1_categorical_accuracy: 0.9960 - val_dense_2_categorical_accuracy: 0.9532\n",
      "Epoch 30/55\n",
      "469/469 [==============================] - 13s 28ms/step - loss: 0.0535 - dense_1_loss: 0.0012 - dense_2_loss: 0.0524 - dense_1_categorical_accuracy: 0.9996 - dense_2_categorical_accuracy: 0.9803 - val_loss: 0.1297 - val_dense_1_loss: 0.0108 - val_dense_2_loss: 0.1189 - val_dense_1_categorical_accuracy: 0.9967 - val_dense_2_categorical_accuracy: 0.9588\n",
      "Epoch 31/55\n",
      "469/469 [==============================] - 13s 28ms/step - loss: 0.0679 - dense_1_loss: 0.0038 - dense_2_loss: 0.0642 - dense_1_categorical_accuracy: 0.9991 - dense_2_categorical_accuracy: 0.9771 - val_loss: 0.1221 - val_dense_1_loss: 0.0053 - val_dense_2_loss: 0.1168 - val_dense_1_categorical_accuracy: 0.9981 - val_dense_2_categorical_accuracy: 0.9613\n",
      "Epoch 32/55\n",
      "469/469 [==============================] - 13s 28ms/step - loss: 0.0554 - dense_1_loss: 0.0031 - dense_2_loss: 0.0522 - dense_1_categorical_accuracy: 0.9990 - dense_2_categorical_accuracy: 0.9804 - val_loss: 0.1594 - val_dense_1_loss: 0.0025 - val_dense_2_loss: 0.1570 - val_dense_1_categorical_accuracy: 0.9992 - val_dense_2_categorical_accuracy: 0.9482\n",
      "Epoch 33/55\n",
      "469/469 [==============================] - 13s 28ms/step - loss: 0.0654 - dense_1_loss: 0.0012 - dense_2_loss: 0.0642 - dense_1_categorical_accuracy: 0.9996 - dense_2_categorical_accuracy: 0.9751 - val_loss: 0.1056 - val_dense_1_loss: 0.0044 - val_dense_2_loss: 0.1012 - val_dense_1_categorical_accuracy: 0.9986 - val_dense_2_categorical_accuracy: 0.9653\n",
      "Epoch 34/55\n",
      "469/469 [==============================] - 13s 28ms/step - loss: 0.0361 - dense_1_loss: 3.6698e-04 - dense_2_loss: 0.0358 - dense_1_categorical_accuracy: 1.0000 - dense_2_categorical_accuracy: 0.9877 - val_loss: 0.1405 - val_dense_1_loss: 0.0144 - val_dense_2_loss: 0.1261 - val_dense_1_categorical_accuracy: 0.9953 - val_dense_2_categorical_accuracy: 0.9594\n",
      "Epoch 35/55\n",
      "469/469 [==============================] - 13s 29ms/step - loss: 0.0722 - dense_1_loss: 0.0127 - dense_2_loss: 0.0594 - dense_1_categorical_accuracy: 0.9957 - dense_2_categorical_accuracy: 0.9810 - val_loss: 0.0867 - val_dense_1_loss: 0.0020 - val_dense_2_loss: 0.0847 - val_dense_1_categorical_accuracy: 0.9995 - val_dense_2_categorical_accuracy: 0.9704\n",
      "Epoch 36/55\n",
      "469/469 [==============================] - 13s 28ms/step - loss: 0.0314 - dense_1_loss: 0.0032 - dense_2_loss: 0.0282 - dense_1_categorical_accuracy: 0.9990 - dense_2_categorical_accuracy: 0.9899 - val_loss: 0.1465 - val_dense_1_loss: 0.0235 - val_dense_2_loss: 0.1230 - val_dense_1_categorical_accuracy: 0.9924 - val_dense_2_categorical_accuracy: 0.9605\n",
      "Epoch 37/55\n",
      "469/469 [==============================] - 13s 28ms/step - loss: 0.0290 - dense_1_loss: 0.0021 - dense_2_loss: 0.0269 - dense_1_categorical_accuracy: 0.9989 - dense_2_categorical_accuracy: 0.9909 - val_loss: 0.1773 - val_dense_1_loss: 0.0023 - val_dense_2_loss: 0.1749 - val_dense_1_categorical_accuracy: 0.9993 - val_dense_2_categorical_accuracy: 0.9454\n",
      "Epoch 38/55\n",
      "469/469 [==============================] - 13s 27ms/step - loss: 0.0810 - dense_1_loss: 0.0013 - dense_2_loss: 0.0797 - dense_1_categorical_accuracy: 0.9996 - dense_2_categorical_accuracy: 0.9732 - val_loss: 0.0941 - val_dense_1_loss: 0.0106 - val_dense_2_loss: 0.0834 - val_dense_1_categorical_accuracy: 0.9968 - val_dense_2_categorical_accuracy: 0.9722\n",
      "Epoch 39/55\n",
      "469/469 [==============================] - 13s 28ms/step - loss: 0.0507 - dense_1_loss: 0.0029 - dense_2_loss: 0.0478 - dense_1_categorical_accuracy: 0.9991 - dense_2_categorical_accuracy: 0.9828 - val_loss: 0.1007 - val_dense_1_loss: 0.0040 - val_dense_2_loss: 0.0967 - val_dense_1_categorical_accuracy: 0.9988 - val_dense_2_categorical_accuracy: 0.9695\n",
      "Epoch 40/55\n",
      "469/469 [==============================] - 13s 28ms/step - loss: 0.0361 - dense_1_loss: 0.0013 - dense_2_loss: 0.0349 - dense_1_categorical_accuracy: 0.9997 - dense_2_categorical_accuracy: 0.9879 - val_loss: 0.1125 - val_dense_1_loss: 0.0065 - val_dense_2_loss: 0.1060 - val_dense_1_categorical_accuracy: 0.9980 - val_dense_2_categorical_accuracy: 0.9679\n",
      "Epoch 41/55\n",
      "469/469 [==============================] - 13s 27ms/step - loss: 0.0357 - dense_1_loss: 0.0034 - dense_2_loss: 0.0323 - dense_1_categorical_accuracy: 0.9991 - dense_2_categorical_accuracy: 0.9887 - val_loss: 0.0918 - val_dense_1_loss: 0.0023 - val_dense_2_loss: 0.0894 - val_dense_1_categorical_accuracy: 0.9993 - val_dense_2_categorical_accuracy: 0.9710\n",
      "Epoch 42/55\n",
      "469/469 [==============================] - 13s 28ms/step - loss: 0.0198 - dense_1_loss: 4.2970e-04 - dense_2_loss: 0.0194 - dense_1_categorical_accuracy: 1.0000 - dense_2_categorical_accuracy: 0.9932 - val_loss: 0.0866 - val_dense_1_loss: 0.0015 - val_dense_2_loss: 0.0851 - val_dense_1_categorical_accuracy: 0.9995 - val_dense_2_categorical_accuracy: 0.9749\n",
      "Epoch 43/55\n",
      "469/469 [==============================] - 13s 28ms/step - loss: 0.0255 - dense_1_loss: 8.5659e-04 - dense_2_loss: 0.0247 - dense_1_categorical_accuracy: 0.9998 - dense_2_categorical_accuracy: 0.9920 - val_loss: 0.1792 - val_dense_1_loss: 0.0484 - val_dense_2_loss: 0.1308 - val_dense_1_categorical_accuracy: 0.9890 - val_dense_2_categorical_accuracy: 0.9624\n",
      "Epoch 44/55\n",
      "469/469 [==============================] - 13s 27ms/step - loss: 0.0721 - dense_1_loss: 0.0179 - dense_2_loss: 0.0542 - dense_1_categorical_accuracy: 0.9951 - dense_2_categorical_accuracy: 0.9831 - val_loss: 0.1795 - val_dense_1_loss: 0.0083 - val_dense_2_loss: 0.1712 - val_dense_1_categorical_accuracy: 0.9974 - val_dense_2_categorical_accuracy: 0.9534\n",
      "Epoch 45/55\n",
      "469/469 [==============================] - 13s 27ms/step - loss: 0.0587 - dense_1_loss: 0.0047 - dense_2_loss: 0.0540 - dense_1_categorical_accuracy: 0.9986 - dense_2_categorical_accuracy: 0.9825 - val_loss: 0.0855 - val_dense_1_loss: 0.0025 - val_dense_2_loss: 0.0829 - val_dense_1_categorical_accuracy: 0.9990 - val_dense_2_categorical_accuracy: 0.9737\n",
      "Epoch 46/55\n",
      "469/469 [==============================] - 13s 28ms/step - loss: 0.0087 - dense_1_loss: 1.4095e-04 - dense_2_loss: 0.0086 - dense_1_categorical_accuracy: 1.0000 - dense_2_categorical_accuracy: 0.9976 - val_loss: 0.0521 - val_dense_1_loss: 8.5759e-04 - val_dense_2_loss: 0.0512 - val_dense_1_categorical_accuracy: 0.9998 - val_dense_2_categorical_accuracy: 0.9830\n",
      "Epoch 47/55\n",
      "469/469 [==============================] - 13s 28ms/step - loss: 0.0098 - dense_1_loss: 3.7775e-04 - dense_2_loss: 0.0094 - dense_1_categorical_accuracy: 0.9999 - dense_2_categorical_accuracy: 0.9971 - val_loss: 0.2385 - val_dense_1_loss: 0.0055 - val_dense_2_loss: 0.2330 - val_dense_1_categorical_accuracy: 0.9982 - val_dense_2_categorical_accuracy: 0.9399\n",
      "Epoch 48/55\n",
      "469/469 [==============================] - 13s 28ms/step - loss: 0.1036 - dense_1_loss: 0.0059 - dense_2_loss: 0.0977 - dense_1_categorical_accuracy: 0.9981 - dense_2_categorical_accuracy: 0.9707 - val_loss: 0.0811 - val_dense_1_loss: 0.0023 - val_dense_2_loss: 0.0789 - val_dense_1_categorical_accuracy: 0.9992 - val_dense_2_categorical_accuracy: 0.9773\n",
      "Epoch 49/55\n",
      "469/469 [==============================] - 13s 28ms/step - loss: 0.0166 - dense_1_loss: 0.0010 - dense_2_loss: 0.0156 - dense_1_categorical_accuracy: 0.9998 - dense_2_categorical_accuracy: 0.9947 - val_loss: 0.1008 - val_dense_1_loss: 0.0062 - val_dense_2_loss: 0.0946 - val_dense_1_categorical_accuracy: 0.9982 - val_dense_2_categorical_accuracy: 0.9716\n",
      "Epoch 50/55\n",
      "469/469 [==============================] - 13s 28ms/step - loss: 0.0224 - dense_1_loss: 7.0142e-04 - dense_2_loss: 0.0217 - dense_1_categorical_accuracy: 0.9997 - dense_2_categorical_accuracy: 0.9935 - val_loss: 0.0971 - val_dense_1_loss: 0.0029 - val_dense_2_loss: 0.0942 - val_dense_1_categorical_accuracy: 0.9989 - val_dense_2_categorical_accuracy: 0.9731\n",
      "Epoch 51/55\n",
      "469/469 [==============================] - 13s 27ms/step - loss: 0.0313 - dense_1_loss: 0.0014 - dense_2_loss: 0.0299 - dense_1_categorical_accuracy: 0.9996 - dense_2_categorical_accuracy: 0.9905 - val_loss: 0.1533 - val_dense_1_loss: 0.0159 - val_dense_2_loss: 0.1374 - val_dense_1_categorical_accuracy: 0.9957 - val_dense_2_categorical_accuracy: 0.9623\n",
      "Epoch 52/55\n",
      "469/469 [==============================] - 13s 28ms/step - loss: 0.0347 - dense_1_loss: 0.0024 - dense_2_loss: 0.0323 - dense_1_categorical_accuracy: 0.9990 - dense_2_categorical_accuracy: 0.9904 - val_loss: 0.0697 - val_dense_1_loss: 0.0029 - val_dense_2_loss: 0.0668 - val_dense_1_categorical_accuracy: 0.9992 - val_dense_2_categorical_accuracy: 0.9803\n",
      "Epoch 53/55\n",
      "469/469 [==============================] - 13s 28ms/step - loss: 0.0255 - dense_1_loss: 0.0018 - dense_2_loss: 0.0237 - dense_1_categorical_accuracy: 0.9996 - dense_2_categorical_accuracy: 0.9927 - val_loss: 0.1905 - val_dense_1_loss: 0.0123 - val_dense_2_loss: 0.1782 - val_dense_1_categorical_accuracy: 0.9971 - val_dense_2_categorical_accuracy: 0.9535\n",
      "Epoch 54/55\n",
      "469/469 [==============================] - 13s 28ms/step - loss: 0.0418 - dense_1_loss: 0.0019 - dense_2_loss: 0.0398 - dense_1_categorical_accuracy: 0.9993 - dense_2_categorical_accuracy: 0.9874 - val_loss: 0.0827 - val_dense_1_loss: 0.0018 - val_dense_2_loss: 0.0810 - val_dense_1_categorical_accuracy: 0.9996 - val_dense_2_categorical_accuracy: 0.9757\n",
      "Epoch 55/55\n",
      "469/469 [==============================] - 13s 28ms/step - loss: 0.0146 - dense_1_loss: 0.0030 - dense_2_loss: 0.0116 - dense_1_categorical_accuracy: 0.9993 - dense_2_categorical_accuracy: 0.9957 - val_loss: 0.2190 - val_dense_1_loss: 0.0102 - val_dense_2_loss: 0.2088 - val_dense_1_categorical_accuracy: 0.9973 - val_dense_2_categorical_accuracy: 0.9479\n",
      "end of training\n",
      "--- 803.245231628418 seconds ---\n"
     ]
    }
   ],
   "source": [
    "print(f'Dimension of train_data (MB): {sys.getsizeof(train_data)/1e6:.0f}', train_data.shape)\n",
    "\n",
    "def card_to_n(card):\n",
    "    target_n = [0.]*10\n",
    "    target_n[(card-1)%10]=1.\n",
    "    return target_n\n",
    "\n",
    "def card_to_s(card):\n",
    "    if card<11:\n",
    "        return [1.,0.,0.,0.]\n",
    "    elif card<21:\n",
    "        return [0.,1.,0.,0.]\n",
    "    elif card<31:\n",
    "        return [0.,0.,1.,0.]\n",
    "    else:\n",
    "        return [0.,0.,0.,1.]\n",
    "    \n",
    "\n",
    "model1 = True\n",
    "if model1:\n",
    "    # creating the ground truth labels\n",
    "    labels_n = np.array([card_to_n(card) for card in target])\n",
    "    labels_s = np.array([card_to_s(card) for card in target])\n",
    "    labels = [labels_n, labels_s]\n",
    "    \n",
    "  \n",
    "    # building the model: suit\n",
    "    inputs = Input(shape=train_data[0].shape)\n",
    "    conv = Conv2D(3, (2,2), activation = 'relu', input_shape=train_data[0].shape)(inputs)\n",
    "    pool = MaxPooling2D(pool_size=(2,2))(conv)\n",
    "    conv = Conv2D(2, (2,2), activation = 'relu')(pool)\n",
    "    pool = MaxPooling2D(pool_size=(2,2))(conv)\n",
    "    conv = Conv2D(2, (2,2), activation = 'relu')(pool)\n",
    "    pool = MaxPooling2D(pool_size=(3,3))(conv)\n",
    "\n",
    "    flatten = Flatten()(pool)\n",
    "    dense = Dense(64, activation='relu')(flatten)\n",
    "\n",
    "    output1 = Dense(10,activation='softmax')(dense)\n",
    "    output2 = Dense(4,activation='softmax')(dense)\n",
    "    outputs= [output1,output2]\n",
    "    model = Model(inputs=inputs, outputs=outputs)\n",
    "    model.compile(loss=[\"categorical_crossentropy\", \"categorical_crossentropy\"], optimizer='adam',metrics=['categorical_accuracy'])\n",
    "\n",
    "    model.summary()\n",
    "    history = model.fit(train_data, labels , validation_split=0.8, epochs= EPOCHS, verbose=1)\n",
    "    \n",
    "    print('end of training')\n",
    "    print(\"--- %s seconds ---\" % (time.time() - start))\n"
   ]
  },
  {
   "cell_type": "markdown",
   "metadata": {
    "id": "Wz4K1GlNmNAx"
   },
   "source": [
    "###check if val_accuracy is acceptable "
   ]
  },
  {
   "cell_type": "code",
   "execution_count": 22,
   "metadata": {
    "colab": {
     "base_uri": "https://localhost:8080/"
    },
    "id": "okHBIQblijFD",
    "outputId": "ead74d6d-039f-45cc-e8b1-6c623777543c"
   },
   "outputs": [
    {
     "name": "stdout",
     "output_type": "stream",
     "text": [
      "Epoch 1/5\n",
      "469/469 [==============================] - 13s 28ms/step - loss: 0.0495 - dense_1_loss: 0.0079 - dense_2_loss: 0.0416 - dense_1_categorical_accuracy: 0.9978 - dense_2_categorical_accuracy: 0.9877 - val_loss: 0.0747 - val_dense_1_loss: 0.0032 - val_dense_2_loss: 0.0715 - val_dense_1_categorical_accuracy: 0.9991 - val_dense_2_categorical_accuracy: 0.9794\n",
      "Epoch 2/5\n",
      "469/469 [==============================] - 13s 28ms/step - loss: 0.0080 - dense_1_loss: 3.1024e-04 - dense_2_loss: 0.0076 - dense_1_categorical_accuracy: 0.9999 - dense_2_categorical_accuracy: 0.9979 - val_loss: 0.0692 - val_dense_1_loss: 7.1379e-04 - val_dense_2_loss: 0.0685 - val_dense_1_categorical_accuracy: 0.9997 - val_dense_2_categorical_accuracy: 0.9803\n",
      "Epoch 3/5\n",
      "469/469 [==============================] - 13s 28ms/step - loss: 0.0019 - dense_1_loss: 2.2956e-05 - dense_2_loss: 0.0019 - dense_1_categorical_accuracy: 1.0000 - dense_2_categorical_accuracy: 0.9997 - val_loss: 0.0577 - val_dense_1_loss: 6.9517e-04 - val_dense_2_loss: 0.0570 - val_dense_1_categorical_accuracy: 0.9997 - val_dense_2_categorical_accuracy: 0.9831\n",
      "Epoch 4/5\n",
      "469/469 [==============================] - 13s 28ms/step - loss: 8.7729e-04 - dense_1_loss: 1.1080e-05 - dense_2_loss: 8.6621e-04 - dense_1_categorical_accuracy: 1.0000 - dense_2_categorical_accuracy: 1.0000 - val_loss: 0.0454 - val_dense_1_loss: 5.2342e-04 - val_dense_2_loss: 0.0448 - val_dense_1_categorical_accuracy: 0.9997 - val_dense_2_categorical_accuracy: 0.9870\n",
      "Epoch 5/5\n",
      "469/469 [==============================] - 13s 28ms/step - loss: 4.4593e-04 - dense_1_loss: 9.0151e-06 - dense_2_loss: 4.3691e-04 - dense_1_categorical_accuracy: 1.0000 - dense_2_categorical_accuracy: 1.0000 - val_loss: 0.0441 - val_dense_1_loss: 4.9719e-04 - val_dense_2_loss: 0.0436 - val_dense_1_categorical_accuracy: 0.9997 - val_dense_2_categorical_accuracy: 0.9875\n"
     ]
    }
   ],
   "source": [
    "if history.history['val_dense_2_categorical_accuracy'][-1] < 0.96:\n",
    "  history2 = model.fit(train_data, labels , validation_split=0.8, epochs= 5, verbose=1)"
   ]
  },
  {
   "cell_type": "code",
   "execution_count": 23,
   "metadata": {
    "colab": {
     "base_uri": "https://localhost:8080/",
     "height": 131,
     "referenced_widgets": [
      "1df75760fd69457ea1c58c1df1beecda",
      "7d4ff0578ee4451f834f22104e3cdaea",
      "bbb65d7c6f534c1dbf50ef7e676abec4",
      "2a10c190b1204cbeab400b418104c126",
      "e6c18fffb28c46f9b65965f3dae41dcb",
      "aef164c23b684517a93212144d09fd98",
      "8c919a9368fe4ff2a2e17ddcc7aecb31",
      "0860b60a7caf437ca6efe451a39296bc"
     ]
    },
    "id": "3t3VMAkoyLLM",
    "outputId": "d0594b08-f68e-4bea-a6cc-495db3bb20e1"
   },
   "outputs": [
    {
     "name": "stdout",
     "output_type": "stream",
     "text": [
      "./scopa/scopa/new_deck/*.jpg\n"
     ]
    },
    {
     "data": {
      "application/vnd.jupyter.widget-view+json": {
       "model_id": "1df75760fd69457ea1c58c1df1beecda",
       "version_major": 2,
       "version_minor": 0
      },
      "text/plain": [
       "HBox(children=(FloatProgress(value=0.0, max=7500.0), HTML(value='')))"
      ]
     },
     "metadata": {
      "tags": []
     },
     "output_type": "display_data"
    },
    {
     "name": "stdout",
     "output_type": "stream",
     "text": [
      "\n",
      "Accuracy test set (n):\t100.0%\n",
      "Accuracy test set (s):\t98.7%\n",
      "----------------------------------------------\n"
     ]
    }
   ],
   "source": [
    "test_data, target = generate_cards(int(n_samples/10), 1, True)\n",
    "test_pred0 = model.predict(test_data) \n",
    "      # this is a list whit 2 arrays of len(target) lenght: the first corresponds to number\n",
    "\n",
    "\n",
    "pred_n = np.array([test_pred0[0][i] for i in range(len(target))])\n",
    "pred_s = np.array([test_pred0[1][i] for i in range(len(target))])\n",
    "\n",
    "\n",
    "test_pred_n = np.array([np.argmax(pred_n[i]) for i in range(len(target))])\n",
    "test_pred_s = np.array([np.argmax(pred_s[i]) for i in range(len(target))])\n",
    "\n",
    "\n",
    "test_label_n = np.array([card_to_n(card) for card in target])\n",
    "test_label_n = np.array([np.argmax(test_label_n[i]) for i in range(len(target))])\n",
    "test_label_s = np.array([card_to_s(card) for card in target])\n",
    "test_label_s = np.array([np.argmax(test_label_s[i]) for i in range(len(target))])\n",
    "\n",
    "\n",
    "from sklearn import metrics\n",
    "\n",
    "print(f'Accuracy test set (n):\\t{metrics.accuracy_score(test_label_n, test_pred_n):.1%}')\n",
    "print(f'Accuracy test set (s):\\t{metrics.accuracy_score(test_label_s, test_pred_s):.1%}')\n",
    "\n",
    "\n",
    "print('----------------------------------------------')"
   ]
  },
  {
   "cell_type": "code",
   "execution_count": 26,
   "metadata": {
    "id": "PXwkIgfz56Oq"
   },
   "outputs": [],
   "source": [
    "save = False\n",
    "if save:\n",
    "  if on_colab:\n",
    "    model.save('./scopa/scopa/new_models/all_model_2.h5') \n",
    "  else:\n",
    "    model.save('./new_models/all_model_2.h5')"
   ]
  }
 ],
 "metadata": {
  "accelerator": "GPU",
  "colab": {
   "collapsed_sections": [],
   "name": "met3.ipnb",
   "provenance": [],
   "toc_visible": true
  },
  "kernelspec": {
   "display_name": "Python 3",
   "language": "python",
   "name": "python3"
  },
  "language_info": {
   "codemirror_mode": {
    "name": "ipython",
    "version": 3
   },
   "file_extension": ".py",
   "mimetype": "text/x-python",
   "name": "python",
   "nbconvert_exporter": "python",
   "pygments_lexer": "ipython3",
   "version": "3.7.9"
  },
  "widgets": {
   "application/vnd.jupyter.widget-state+json": {
    "0860b60a7caf437ca6efe451a39296bc": {
     "model_module": "@jupyter-widgets/base",
     "model_name": "LayoutModel",
     "state": {
      "_model_module": "@jupyter-widgets/base",
      "_model_module_version": "1.2.0",
      "_model_name": "LayoutModel",
      "_view_count": null,
      "_view_module": "@jupyter-widgets/base",
      "_view_module_version": "1.2.0",
      "_view_name": "LayoutView",
      "align_content": null,
      "align_items": null,
      "align_self": null,
      "border": null,
      "bottom": null,
      "display": null,
      "flex": null,
      "flex_flow": null,
      "grid_area": null,
      "grid_auto_columns": null,
      "grid_auto_flow": null,
      "grid_auto_rows": null,
      "grid_column": null,
      "grid_gap": null,
      "grid_row": null,
      "grid_template_areas": null,
      "grid_template_columns": null,
      "grid_template_rows": null,
      "height": null,
      "justify_content": null,
      "justify_items": null,
      "left": null,
      "margin": null,
      "max_height": null,
      "max_width": null,
      "min_height": null,
      "min_width": null,
      "object_fit": null,
      "object_position": null,
      "order": null,
      "overflow": null,
      "overflow_x": null,
      "overflow_y": null,
      "padding": null,
      "right": null,
      "top": null,
      "visibility": null,
      "width": null
     }
    },
    "1df75760fd69457ea1c58c1df1beecda": {
     "model_module": "@jupyter-widgets/controls",
     "model_name": "HBoxModel",
     "state": {
      "_dom_classes": [],
      "_model_module": "@jupyter-widgets/controls",
      "_model_module_version": "1.5.0",
      "_model_name": "HBoxModel",
      "_view_count": null,
      "_view_module": "@jupyter-widgets/controls",
      "_view_module_version": "1.5.0",
      "_view_name": "HBoxView",
      "box_style": "",
      "children": [
       "IPY_MODEL_bbb65d7c6f534c1dbf50ef7e676abec4",
       "IPY_MODEL_2a10c190b1204cbeab400b418104c126"
      ],
      "layout": "IPY_MODEL_7d4ff0578ee4451f834f22104e3cdaea"
     }
    },
    "2a10c190b1204cbeab400b418104c126": {
     "model_module": "@jupyter-widgets/controls",
     "model_name": "HTMLModel",
     "state": {
      "_dom_classes": [],
      "_model_module": "@jupyter-widgets/controls",
      "_model_module_version": "1.5.0",
      "_model_name": "HTMLModel",
      "_view_count": null,
      "_view_module": "@jupyter-widgets/controls",
      "_view_module_version": "1.5.0",
      "_view_name": "HTMLView",
      "description": "",
      "description_tooltip": null,
      "layout": "IPY_MODEL_0860b60a7caf437ca6efe451a39296bc",
      "placeholder": "​",
      "style": "IPY_MODEL_8c919a9368fe4ff2a2e17ddcc7aecb31",
      "value": " 7500/7500 [00:08&lt;00:00, 913.25it/s]"
     }
    },
    "33f0f90b72a54b308149dc80f41898f8": {
     "model_module": "@jupyter-widgets/controls",
     "model_name": "ProgressStyleModel",
     "state": {
      "_model_module": "@jupyter-widgets/controls",
      "_model_module_version": "1.5.0",
      "_model_name": "ProgressStyleModel",
      "_view_count": null,
      "_view_module": "@jupyter-widgets/base",
      "_view_module_version": "1.2.0",
      "_view_name": "StyleView",
      "bar_color": null,
      "description_width": "initial"
     }
    },
    "5a46f3640292468e87a256671dd5b54c": {
     "model_module": "@jupyter-widgets/base",
     "model_name": "LayoutModel",
     "state": {
      "_model_module": "@jupyter-widgets/base",
      "_model_module_version": "1.2.0",
      "_model_name": "LayoutModel",
      "_view_count": null,
      "_view_module": "@jupyter-widgets/base",
      "_view_module_version": "1.2.0",
      "_view_name": "LayoutView",
      "align_content": null,
      "align_items": null,
      "align_self": null,
      "border": null,
      "bottom": null,
      "display": null,
      "flex": null,
      "flex_flow": null,
      "grid_area": null,
      "grid_auto_columns": null,
      "grid_auto_flow": null,
      "grid_auto_rows": null,
      "grid_column": null,
      "grid_gap": null,
      "grid_row": null,
      "grid_template_areas": null,
      "grid_template_columns": null,
      "grid_template_rows": null,
      "height": null,
      "justify_content": null,
      "justify_items": null,
      "left": null,
      "margin": null,
      "max_height": null,
      "max_width": null,
      "min_height": null,
      "min_width": null,
      "object_fit": null,
      "object_position": null,
      "order": null,
      "overflow": null,
      "overflow_x": null,
      "overflow_y": null,
      "padding": null,
      "right": null,
      "top": null,
      "visibility": null,
      "width": null
     }
    },
    "5b786fcd4d8548cab5cbd5533831399c": {
     "model_module": "@jupyter-widgets/base",
     "model_name": "LayoutModel",
     "state": {
      "_model_module": "@jupyter-widgets/base",
      "_model_module_version": "1.2.0",
      "_model_name": "LayoutModel",
      "_view_count": null,
      "_view_module": "@jupyter-widgets/base",
      "_view_module_version": "1.2.0",
      "_view_name": "LayoutView",
      "align_content": null,
      "align_items": null,
      "align_self": null,
      "border": null,
      "bottom": null,
      "display": null,
      "flex": null,
      "flex_flow": null,
      "grid_area": null,
      "grid_auto_columns": null,
      "grid_auto_flow": null,
      "grid_auto_rows": null,
      "grid_column": null,
      "grid_gap": null,
      "grid_row": null,
      "grid_template_areas": null,
      "grid_template_columns": null,
      "grid_template_rows": null,
      "height": null,
      "justify_content": null,
      "justify_items": null,
      "left": null,
      "margin": null,
      "max_height": null,
      "max_width": null,
      "min_height": null,
      "min_width": null,
      "object_fit": null,
      "object_position": null,
      "order": null,
      "overflow": null,
      "overflow_x": null,
      "overflow_y": null,
      "padding": null,
      "right": null,
      "top": null,
      "visibility": null,
      "width": null
     }
    },
    "66ee6f0801d0402991d110eb2faeee84": {
     "model_module": "@jupyter-widgets/controls",
     "model_name": "DescriptionStyleModel",
     "state": {
      "_model_module": "@jupyter-widgets/controls",
      "_model_module_version": "1.5.0",
      "_model_name": "DescriptionStyleModel",
      "_view_count": null,
      "_view_module": "@jupyter-widgets/base",
      "_view_module_version": "1.2.0",
      "_view_name": "StyleView",
      "description_width": ""
     }
    },
    "7d4ff0578ee4451f834f22104e3cdaea": {
     "model_module": "@jupyter-widgets/base",
     "model_name": "LayoutModel",
     "state": {
      "_model_module": "@jupyter-widgets/base",
      "_model_module_version": "1.2.0",
      "_model_name": "LayoutModel",
      "_view_count": null,
      "_view_module": "@jupyter-widgets/base",
      "_view_module_version": "1.2.0",
      "_view_name": "LayoutView",
      "align_content": null,
      "align_items": null,
      "align_self": null,
      "border": null,
      "bottom": null,
      "display": null,
      "flex": null,
      "flex_flow": null,
      "grid_area": null,
      "grid_auto_columns": null,
      "grid_auto_flow": null,
      "grid_auto_rows": null,
      "grid_column": null,
      "grid_gap": null,
      "grid_row": null,
      "grid_template_areas": null,
      "grid_template_columns": null,
      "grid_template_rows": null,
      "height": null,
      "justify_content": null,
      "justify_items": null,
      "left": null,
      "margin": null,
      "max_height": null,
      "max_width": null,
      "min_height": null,
      "min_width": null,
      "object_fit": null,
      "object_position": null,
      "order": null,
      "overflow": null,
      "overflow_x": null,
      "overflow_y": null,
      "padding": null,
      "right": null,
      "top": null,
      "visibility": null,
      "width": null
     }
    },
    "8a4eddd3b9f5460bbf75cd48b76bf73e": {
     "model_module": "@jupyter-widgets/controls",
     "model_name": "FloatProgressModel",
     "state": {
      "_dom_classes": [],
      "_model_module": "@jupyter-widgets/controls",
      "_model_module_version": "1.5.0",
      "_model_name": "FloatProgressModel",
      "_view_count": null,
      "_view_module": "@jupyter-widgets/controls",
      "_view_module_version": "1.5.0",
      "_view_name": "ProgressView",
      "bar_style": "success",
      "description": "100%",
      "description_tooltip": null,
      "layout": "IPY_MODEL_af00fb66cd6e4c8cac13c522406dba32",
      "max": 75000,
      "min": 0,
      "orientation": "horizontal",
      "style": "IPY_MODEL_33f0f90b72a54b308149dc80f41898f8",
      "value": 75000
     }
    },
    "8c919a9368fe4ff2a2e17ddcc7aecb31": {
     "model_module": "@jupyter-widgets/controls",
     "model_name": "DescriptionStyleModel",
     "state": {
      "_model_module": "@jupyter-widgets/controls",
      "_model_module_version": "1.5.0",
      "_model_name": "DescriptionStyleModel",
      "_view_count": null,
      "_view_module": "@jupyter-widgets/base",
      "_view_module_version": "1.2.0",
      "_view_name": "StyleView",
      "description_width": ""
     }
    },
    "9756c9472ceb40eeb9c8cb5d0eb47132": {
     "model_module": "@jupyter-widgets/controls",
     "model_name": "HBoxModel",
     "state": {
      "_dom_classes": [],
      "_model_module": "@jupyter-widgets/controls",
      "_model_module_version": "1.5.0",
      "_model_name": "HBoxModel",
      "_view_count": null,
      "_view_module": "@jupyter-widgets/controls",
      "_view_module_version": "1.5.0",
      "_view_name": "HBoxView",
      "box_style": "",
      "children": [
       "IPY_MODEL_8a4eddd3b9f5460bbf75cd48b76bf73e",
       "IPY_MODEL_f6d9e51d39d24f739f5bbbf3823d81be"
      ],
      "layout": "IPY_MODEL_5a46f3640292468e87a256671dd5b54c"
     }
    },
    "aef164c23b684517a93212144d09fd98": {
     "model_module": "@jupyter-widgets/base",
     "model_name": "LayoutModel",
     "state": {
      "_model_module": "@jupyter-widgets/base",
      "_model_module_version": "1.2.0",
      "_model_name": "LayoutModel",
      "_view_count": null,
      "_view_module": "@jupyter-widgets/base",
      "_view_module_version": "1.2.0",
      "_view_name": "LayoutView",
      "align_content": null,
      "align_items": null,
      "align_self": null,
      "border": null,
      "bottom": null,
      "display": null,
      "flex": null,
      "flex_flow": null,
      "grid_area": null,
      "grid_auto_columns": null,
      "grid_auto_flow": null,
      "grid_auto_rows": null,
      "grid_column": null,
      "grid_gap": null,
      "grid_row": null,
      "grid_template_areas": null,
      "grid_template_columns": null,
      "grid_template_rows": null,
      "height": null,
      "justify_content": null,
      "justify_items": null,
      "left": null,
      "margin": null,
      "max_height": null,
      "max_width": null,
      "min_height": null,
      "min_width": null,
      "object_fit": null,
      "object_position": null,
      "order": null,
      "overflow": null,
      "overflow_x": null,
      "overflow_y": null,
      "padding": null,
      "right": null,
      "top": null,
      "visibility": null,
      "width": null
     }
    },
    "af00fb66cd6e4c8cac13c522406dba32": {
     "model_module": "@jupyter-widgets/base",
     "model_name": "LayoutModel",
     "state": {
      "_model_module": "@jupyter-widgets/base",
      "_model_module_version": "1.2.0",
      "_model_name": "LayoutModel",
      "_view_count": null,
      "_view_module": "@jupyter-widgets/base",
      "_view_module_version": "1.2.0",
      "_view_name": "LayoutView",
      "align_content": null,
      "align_items": null,
      "align_self": null,
      "border": null,
      "bottom": null,
      "display": null,
      "flex": null,
      "flex_flow": null,
      "grid_area": null,
      "grid_auto_columns": null,
      "grid_auto_flow": null,
      "grid_auto_rows": null,
      "grid_column": null,
      "grid_gap": null,
      "grid_row": null,
      "grid_template_areas": null,
      "grid_template_columns": null,
      "grid_template_rows": null,
      "height": null,
      "justify_content": null,
      "justify_items": null,
      "left": null,
      "margin": null,
      "max_height": null,
      "max_width": null,
      "min_height": null,
      "min_width": null,
      "object_fit": null,
      "object_position": null,
      "order": null,
      "overflow": null,
      "overflow_x": null,
      "overflow_y": null,
      "padding": null,
      "right": null,
      "top": null,
      "visibility": null,
      "width": null
     }
    },
    "bbb65d7c6f534c1dbf50ef7e676abec4": {
     "model_module": "@jupyter-widgets/controls",
     "model_name": "FloatProgressModel",
     "state": {
      "_dom_classes": [],
      "_model_module": "@jupyter-widgets/controls",
      "_model_module_version": "1.5.0",
      "_model_name": "FloatProgressModel",
      "_view_count": null,
      "_view_module": "@jupyter-widgets/controls",
      "_view_module_version": "1.5.0",
      "_view_name": "ProgressView",
      "bar_style": "success",
      "description": "100%",
      "description_tooltip": null,
      "layout": "IPY_MODEL_aef164c23b684517a93212144d09fd98",
      "max": 7500,
      "min": 0,
      "orientation": "horizontal",
      "style": "IPY_MODEL_e6c18fffb28c46f9b65965f3dae41dcb",
      "value": 7500
     }
    },
    "e6c18fffb28c46f9b65965f3dae41dcb": {
     "model_module": "@jupyter-widgets/controls",
     "model_name": "ProgressStyleModel",
     "state": {
      "_model_module": "@jupyter-widgets/controls",
      "_model_module_version": "1.5.0",
      "_model_name": "ProgressStyleModel",
      "_view_count": null,
      "_view_module": "@jupyter-widgets/base",
      "_view_module_version": "1.2.0",
      "_view_name": "StyleView",
      "bar_color": null,
      "description_width": "initial"
     }
    },
    "f6d9e51d39d24f739f5bbbf3823d81be": {
     "model_module": "@jupyter-widgets/controls",
     "model_name": "HTMLModel",
     "state": {
      "_dom_classes": [],
      "_model_module": "@jupyter-widgets/controls",
      "_model_module_version": "1.5.0",
      "_model_name": "HTMLModel",
      "_view_count": null,
      "_view_module": "@jupyter-widgets/controls",
      "_view_module_version": "1.5.0",
      "_view_name": "HTMLView",
      "description": "",
      "description_tooltip": null,
      "layout": "IPY_MODEL_5b786fcd4d8548cab5cbd5533831399c",
      "placeholder": "​",
      "style": "IPY_MODEL_66ee6f0801d0402991d110eb2faeee84",
      "value": " 75000/75000 [01:16&lt;00:00, 974.71it/s]"
     }
    }
   }
  }
 },
 "nbformat": 4,
 "nbformat_minor": 1
}
