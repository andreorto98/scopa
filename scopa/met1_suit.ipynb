{
 "cells": [
  {
   "cell_type": "markdown",
   "metadata": {
    "id": "KjUE9JHxd6su"
   },
   "source": [
    "#Training model1_suit"
   ]
  },
  {
   "cell_type": "code",
   "execution_count": 1,
   "metadata": {
    "id": "Ihi4OoMBdynA"
   },
   "outputs": [],
   "source": [
    "import numpy as np\n",
    "import cv2\n",
    "import sys\n",
    "import random\n",
    "import glob\n",
    "import re\n",
    "import time\n",
    "import os\n",
    "from tqdm.notebook import tqdm as log_progress\n",
    "from matplotlib import pyplot as plt\n",
    "\n",
    "from tensorflow.keras.layers import Dense, Input, Conv2D, MaxPooling2D, Flatten\n",
    "from tensorflow.keras.models import Model"
   ]
  },
  {
   "cell_type": "markdown",
   "metadata": {
    "id": "ZC5MIrFIQ27v"
   },
   "source": [
    "###Complete this basing on where you are running the notebook:"
   ]
  },
  {
   "cell_type": "code",
   "execution_count": 2,
   "metadata": {
    "colab": {
     "base_uri": "https://localhost:8080/"
    },
    "id": "8kR_R6h_RAjB",
    "outputId": "d0ba7a3a-dd9f-4ff1-f37c-83f3d84d185c"
   },
   "outputs": [
    {
     "name": "stdout",
     "output_type": "stream",
     "text": [
      "Cloning into 'on_colab:'...\n",
      "fatal: could not read Username for 'https://github.com': No such device or address\n"
     ]
    }
   ],
   "source": [
    "on_colab = True\n",
    "EPOCHS = 55\n",
    "LEN_TRAINING_DATA = 75000\n",
    "if on_colab:\n",
    "    !git clone https://github.com/andreorto98/scopa.git:\n",
    "    path_to_deck = './scopa/scopa/new_deck/'\n",
    "if not on_colab:\n",
    "    path_to_deck = './new_deck/'"
   ]
  },
  {
   "cell_type": "code",
   "execution_count": 3,
   "metadata": {
    "id": "4fjWJ1Rid1Tl"
   },
   "outputs": [],
   "source": [
    "def transform_img(img, angle = 0, scale = 1, tr = (0,0)):\n",
    "  input_img_shape = img.shape\n",
    "  img_center = (int(input_img_shape[0]/2), int(input_img_shape[1]/2))\n",
    "  trasl_mat = np.zeros((2,3))\n",
    "  trasl_mat[0,2]=tr[0]\n",
    "  trasl_mat[1,2]=tr[1]\n",
    "  trasl_mat[0,0] = trasl_mat[1][1] = 1\n",
    "  img = cv2.warpAffine(img, trasl_mat, img.shape[0:2], flags=cv2.INTER_LINEAR)\n",
    "  rot_mat = cv2.getRotationMatrix2D(img_center, angle, scale)\n",
    "  img = cv2.warpAffine(img, rot_mat, img.shape[0:2], flags=cv2.INTER_LINEAR)\n",
    "  return img.reshape(input_img_shape)\n",
    "\n",
    "\n",
    "def generate_cards(n=1, layers=3, ang = True, traslate=False):\n",
    "    cards = np.random.randint(1,41,n, np.uint8)\n",
    "    if ang:\n",
    "        angles= np.random.uniform(0,360,n)\n",
    "    else:\n",
    "        angles = np.full(n, 0.)\n",
    "    scales= np.random.uniform(0.9,1.1,n)\n",
    "    if layers == 1:\n",
    "        print(path_to_deck+\"*.jpg\")\n",
    "        inp_images = sorted([file for file in glob.glob(path_to_deck+\"*.jpg\")], key = string_to_n_card)\n",
    "        inp_images = [cv2.imread(file, cv2.IMREAD_GRAYSCALE).reshape(256,256,1) for file in inp_images]\n",
    "    elif layers == 3:\n",
    "        inp_images = sorted([file for file in glob.glob(\"./deck0/*.jpg\")], key = string_to_n_card)\n",
    "        inp_images = [cv2.imread(file)[232:488,232:488] for file in inp_images]\n",
    "    image_shape = inp_images[0].shape\n",
    "\n",
    "    if traslate:\n",
    "        marg = 5\n",
    "        max_tr_x = int(image_shape[0]/2-image_shape[0]/marg)\n",
    "        max_tr_y = int(image_shape[1]/2-image_shape[1]/marg)\n",
    "        tr_x = np.random.randint(0,max_tr_x,n)\n",
    "        tr_y = np.random.randint(0,max_tr_y,n)\n",
    "    else:\n",
    "        tr_x = np.zeros(n)\n",
    "        tr_y = np.zeros(n)\n",
    "\n",
    "    images = [transform_img(inp_images[cards[i]-1], angles[i], scales[i], (tr_x[i], tr_y[i]))\n",
    "              for i in log_progress(range(len(cards)))]\n",
    "\n",
    "    return np.array(images), np.array(cards)\n",
    "\n",
    "def string_to_n_card(str):\n",
    "    if str.startswith('.'):\n",
    "         words = re.split('_|/|.j', str)[-3:-1]\n",
    "    else: words = str.split('_')\n",
    "    suit_to_n = {'hearts':0, 'diamonds':10, 'clubs':20, 'spades':30}\n",
    "    return int(words[0])+suit_to_n[words[1]]"
   ]
  },
  {
   "cell_type": "code",
   "execution_count": 5,
   "metadata": {
    "colab": {
     "base_uri": "https://localhost:8080/",
     "height": 148,
     "referenced_widgets": [
      "9c3548ff5e6640b69e2c0bc431f1d86e",
      "e0be167d8e3b48719f9014be547bbcf5",
      "3ba60a8e323d461f9dc81d216af00a0f",
      "f971d95cf20b4be1822ee5e6bb63b057",
      "217391dc18f349739ae3287d4fcd973a",
      "f3c90db79de24ce587e54101e186e677",
      "ca35acb87d0c42e3b1a299c337a1c594",
      "aa10ed9bc63b4ed5802b3e22559d0b28"
     ]
    },
    "id": "at554AN61ub_",
    "outputId": "5ce41541-af69-4787-bdd5-ce5c2e21450b"
   },
   "outputs": [
    {
     "name": "stdout",
     "output_type": "stream",
     "text": [
      "start time1\n",
      "./scopa/scopa/new_deck/*.jpg\n"
     ]
    },
    {
     "data": {
      "application/vnd.jupyter.widget-view+json": {
       "model_id": "9c3548ff5e6640b69e2c0bc431f1d86e",
       "version_major": 2,
       "version_minor": 0
      },
      "text/plain": [
       "HBox(children=(FloatProgress(value=0.0, max=75000.0), HTML(value='')))"
      ]
     },
     "metadata": {
      "tags": []
     },
     "output_type": "display_data"
    },
    {
     "name": "stdout",
     "output_type": "stream",
     "text": [
      "\n",
      "(75000, 256, 256, 1) (75000,)\n",
      "cards_generated\n",
      "--- 84.575355052948 seconds ---\n"
     ]
    }
   ],
   "source": [
    "n_samples = LEN_TRAINING_DATA\n",
    "\n",
    "print('start time1')\n",
    "start = time.time()\n",
    "\n",
    "# Generate training data1\n",
    "train_data, target = generate_cards(n_samples, 1, True)\n",
    "\n",
    "print(train_data.shape, target.shape)\n",
    "\n",
    "print('cards_generated')\n",
    "print(\"--- %s seconds ---\" % (time.time() - start))"
   ]
  },
  {
   "cell_type": "code",
   "execution_count": 6,
   "metadata": {
    "colab": {
     "base_uri": "https://localhost:8080/"
    },
    "id": "QQKqZZm9rnSH",
    "outputId": "a0d9c2e2-cab2-4041-a4d7-9e05683388f7"
   },
   "outputs": [
    {
     "name": "stdout",
     "output_type": "stream",
     "text": [
      "Dimension of train_data (MB): 4915 (75000, 256, 256, 1)\n",
      "Model: \"model\"\n",
      "_________________________________________________________________\n",
      "Layer (type)                 Output Shape              Param #   \n",
      "=================================================================\n",
      "input_1 (InputLayer)         [(None, 256, 256, 1)]     0         \n",
      "_________________________________________________________________\n",
      "conv2d (Conv2D)              (None, 255, 255, 3)       15        \n",
      "_________________________________________________________________\n",
      "max_pooling2d (MaxPooling2D) (None, 127, 127, 3)       0         \n",
      "_________________________________________________________________\n",
      "conv2d_1 (Conv2D)            (None, 126, 126, 3)       39        \n",
      "_________________________________________________________________\n",
      "max_pooling2d_1 (MaxPooling2 (None, 63, 63, 3)         0         \n",
      "_________________________________________________________________\n",
      "conv2d_2 (Conv2D)            (None, 62, 62, 2)         26        \n",
      "_________________________________________________________________\n",
      "max_pooling2d_2 (MaxPooling2 (None, 20, 20, 2)         0         \n",
      "_________________________________________________________________\n",
      "flatten (Flatten)            (None, 800)               0         \n",
      "_________________________________________________________________\n",
      "dense (Dense)                (None, 32)                25632     \n",
      "_________________________________________________________________\n",
      "dense_1 (Dense)              (None, 4)                 132       \n",
      "=================================================================\n",
      "Total params: 25,844\n",
      "Trainable params: 25,844\n",
      "Non-trainable params: 0\n",
      "_________________________________________________________________\n",
      "Epoch 1/55\n",
      "469/469 [==============================] - 26s 47ms/step - loss: 1.7735 - categorical_accuracy: 0.3684 - val_loss: 0.9181 - val_categorical_accuracy: 0.6136\n",
      "Epoch 2/55\n",
      "469/469 [==============================] - 21s 45ms/step - loss: 0.7246 - categorical_accuracy: 0.7106 - val_loss: 0.4663 - val_categorical_accuracy: 0.8190\n",
      "Epoch 3/55\n",
      "469/469 [==============================] - 21s 45ms/step - loss: 0.3159 - categorical_accuracy: 0.8817 - val_loss: 0.3140 - val_categorical_accuracy: 0.8823\n",
      "Epoch 4/55\n",
      "469/469 [==============================] - 21s 45ms/step - loss: 0.1698 - categorical_accuracy: 0.9381 - val_loss: 0.2572 - val_categorical_accuracy: 0.9063\n",
      "Epoch 5/55\n",
      "469/469 [==============================] - 21s 45ms/step - loss: 0.0944 - categorical_accuracy: 0.9685 - val_loss: 0.2243 - val_categorical_accuracy: 0.9233\n",
      "Epoch 6/55\n",
      "469/469 [==============================] - 22s 46ms/step - loss: 0.0648 - categorical_accuracy: 0.9791 - val_loss: 0.2352 - val_categorical_accuracy: 0.9255\n",
      "Epoch 7/55\n",
      "469/469 [==============================] - 22s 46ms/step - loss: 0.0504 - categorical_accuracy: 0.9825 - val_loss: 0.2283 - val_categorical_accuracy: 0.9291\n",
      "Epoch 8/55\n",
      "469/469 [==============================] - 21s 45ms/step - loss: 0.0356 - categorical_accuracy: 0.9885 - val_loss: 0.2174 - val_categorical_accuracy: 0.9350\n",
      "Epoch 9/55\n",
      "469/469 [==============================] - 21s 45ms/step - loss: 0.0245 - categorical_accuracy: 0.9926 - val_loss: 0.2431 - val_categorical_accuracy: 0.9329\n",
      "Epoch 10/55\n",
      "469/469 [==============================] - 21s 46ms/step - loss: 0.0267 - categorical_accuracy: 0.9905 - val_loss: 0.2778 - val_categorical_accuracy: 0.9274\n",
      "Epoch 11/55\n",
      "469/469 [==============================] - 21s 45ms/step - loss: 0.0287 - categorical_accuracy: 0.9908 - val_loss: 0.2553 - val_categorical_accuracy: 0.9319\n",
      "Epoch 12/55\n",
      "469/469 [==============================] - 21s 45ms/step - loss: 0.0305 - categorical_accuracy: 0.9876 - val_loss: 0.2167 - val_categorical_accuracy: 0.9425\n",
      "Epoch 13/55\n",
      "469/469 [==============================] - 21s 45ms/step - loss: 0.0163 - categorical_accuracy: 0.9945 - val_loss: 0.2248 - val_categorical_accuracy: 0.9416\n",
      "Epoch 14/55\n",
      "469/469 [==============================] - 21s 45ms/step - loss: 0.0190 - categorical_accuracy: 0.9931 - val_loss: 0.2414 - val_categorical_accuracy: 0.9409\n",
      "Epoch 15/55\n",
      "469/469 [==============================] - 22s 46ms/step - loss: 0.0157 - categorical_accuracy: 0.9944 - val_loss: 0.2486 - val_categorical_accuracy: 0.9420\n",
      "Epoch 16/55\n",
      "469/469 [==============================] - 21s 46ms/step - loss: 0.0247 - categorical_accuracy: 0.9913 - val_loss: 0.2619 - val_categorical_accuracy: 0.9423\n",
      "Epoch 17/55\n",
      "469/469 [==============================] - 21s 46ms/step - loss: 0.0154 - categorical_accuracy: 0.9943 - val_loss: 0.2791 - val_categorical_accuracy: 0.9366\n",
      "Epoch 18/55\n",
      "469/469 [==============================] - 21s 46ms/step - loss: 0.0119 - categorical_accuracy: 0.9970 - val_loss: 0.2245 - val_categorical_accuracy: 0.9465\n",
      "Epoch 19/55\n",
      "469/469 [==============================] - 21s 46ms/step - loss: 0.0073 - categorical_accuracy: 0.9977 - val_loss: 0.2547 - val_categorical_accuracy: 0.9444\n",
      "Epoch 20/55\n",
      "469/469 [==============================] - 21s 46ms/step - loss: 0.0186 - categorical_accuracy: 0.9946 - val_loss: 0.2751 - val_categorical_accuracy: 0.9397\n",
      "Epoch 21/55\n",
      "469/469 [==============================] - 22s 47ms/step - loss: 0.0248 - categorical_accuracy: 0.9910 - val_loss: 0.2575 - val_categorical_accuracy: 0.9426\n",
      "Epoch 22/55\n",
      "469/469 [==============================] - 21s 46ms/step - loss: 0.0152 - categorical_accuracy: 0.9960 - val_loss: 0.2489 - val_categorical_accuracy: 0.9470\n",
      "Epoch 23/55\n",
      "469/469 [==============================] - 21s 46ms/step - loss: 0.0058 - categorical_accuracy: 0.9984 - val_loss: 0.2461 - val_categorical_accuracy: 0.9480\n",
      "Epoch 24/55\n",
      "469/469 [==============================] - 21s 46ms/step - loss: 0.0087 - categorical_accuracy: 0.9971 - val_loss: 0.2266 - val_categorical_accuracy: 0.9521\n",
      "Epoch 25/55\n",
      "469/469 [==============================] - 21s 46ms/step - loss: 0.0066 - categorical_accuracy: 0.9976 - val_loss: 0.2651 - val_categorical_accuracy: 0.9456\n",
      "Epoch 26/55\n",
      "469/469 [==============================] - 21s 46ms/step - loss: 0.0144 - categorical_accuracy: 0.9948 - val_loss: 0.2657 - val_categorical_accuracy: 0.9444\n",
      "Epoch 27/55\n",
      "469/469 [==============================] - 21s 46ms/step - loss: 0.0145 - categorical_accuracy: 0.9951 - val_loss: 0.2574 - val_categorical_accuracy: 0.9478\n",
      "Epoch 28/55\n",
      "469/469 [==============================] - 21s 46ms/step - loss: 0.0108 - categorical_accuracy: 0.9963 - val_loss: 0.2364 - val_categorical_accuracy: 0.9505\n",
      "Epoch 29/55\n",
      "469/469 [==============================] - 22s 46ms/step - loss: 0.0038 - categorical_accuracy: 0.9987 - val_loss: 0.2803 - val_categorical_accuracy: 0.9484\n",
      "Epoch 30/55\n",
      "469/469 [==============================] - 21s 46ms/step - loss: 0.0102 - categorical_accuracy: 0.9964 - val_loss: 0.2519 - val_categorical_accuracy: 0.9498\n",
      "Epoch 31/55\n",
      "469/469 [==============================] - 21s 46ms/step - loss: 0.0123 - categorical_accuracy: 0.9959 - val_loss: 0.2597 - val_categorical_accuracy: 0.9487\n",
      "Epoch 32/55\n",
      "469/469 [==============================] - 22s 46ms/step - loss: 0.0136 - categorical_accuracy: 0.9962 - val_loss: 0.2338 - val_categorical_accuracy: 0.9528\n",
      "Epoch 33/55\n",
      "469/469 [==============================] - 21s 46ms/step - loss: 0.0052 - categorical_accuracy: 0.9982 - val_loss: 0.2555 - val_categorical_accuracy: 0.9519\n",
      "Epoch 34/55\n",
      "469/469 [==============================] - 22s 46ms/step - loss: 0.0048 - categorical_accuracy: 0.9980 - val_loss: 0.2543 - val_categorical_accuracy: 0.9485\n",
      "Epoch 35/55\n",
      "469/469 [==============================] - 22s 46ms/step - loss: 0.0180 - categorical_accuracy: 0.9948 - val_loss: 0.2490 - val_categorical_accuracy: 0.9514\n",
      "Epoch 36/55\n",
      "469/469 [==============================] - 22s 47ms/step - loss: 0.0058 - categorical_accuracy: 0.9982 - val_loss: 0.2511 - val_categorical_accuracy: 0.9494\n",
      "Epoch 37/55\n",
      "469/469 [==============================] - 22s 46ms/step - loss: 0.0130 - categorical_accuracy: 0.9962 - val_loss: 0.2387 - val_categorical_accuracy: 0.9518\n",
      "Epoch 38/55\n",
      "469/469 [==============================] - 21s 46ms/step - loss: 0.0041 - categorical_accuracy: 0.9984 - val_loss: 0.2595 - val_categorical_accuracy: 0.9526\n",
      "Epoch 39/55\n",
      "469/469 [==============================] - 21s 46ms/step - loss: 0.0106 - categorical_accuracy: 0.9974 - val_loss: 0.2653 - val_categorical_accuracy: 0.9514\n",
      "Epoch 40/55\n",
      "469/469 [==============================] - 22s 46ms/step - loss: 0.0093 - categorical_accuracy: 0.9966 - val_loss: 0.3465 - val_categorical_accuracy: 0.9412\n",
      "Epoch 41/55\n",
      "469/469 [==============================] - 21s 46ms/step - loss: 0.0073 - categorical_accuracy: 0.9984 - val_loss: 0.2253 - val_categorical_accuracy: 0.9571\n",
      "Epoch 42/55\n",
      "469/469 [==============================] - 21s 46ms/step - loss: 0.0105 - categorical_accuracy: 0.9971 - val_loss: 0.2505 - val_categorical_accuracy: 0.9509\n",
      "Epoch 43/55\n",
      "469/469 [==============================] - 21s 46ms/step - loss: 0.0048 - categorical_accuracy: 0.9991 - val_loss: 0.2464 - val_categorical_accuracy: 0.9549\n",
      "Epoch 44/55\n",
      "469/469 [==============================] - 21s 46ms/step - loss: 0.0048 - categorical_accuracy: 0.9986 - val_loss: 0.2783 - val_categorical_accuracy: 0.9500\n",
      "Epoch 45/55\n",
      "469/469 [==============================] - 21s 45ms/step - loss: 0.0044 - categorical_accuracy: 0.9980 - val_loss: 0.2610 - val_categorical_accuracy: 0.9538\n",
      "Epoch 46/55\n",
      "469/469 [==============================] - 21s 46ms/step - loss: 0.0099 - categorical_accuracy: 0.9978 - val_loss: 0.2819 - val_categorical_accuracy: 0.9523\n",
      "Epoch 47/55\n",
      "469/469 [==============================] - 21s 46ms/step - loss: 0.0120 - categorical_accuracy: 0.9969 - val_loss: 0.2528 - val_categorical_accuracy: 0.9525\n",
      "Epoch 48/55\n",
      "469/469 [==============================] - 22s 46ms/step - loss: 0.0058 - categorical_accuracy: 0.9978 - val_loss: 0.2527 - val_categorical_accuracy: 0.9552\n",
      "Epoch 49/55\n",
      "469/469 [==============================] - 21s 46ms/step - loss: 0.0050 - categorical_accuracy: 0.9990 - val_loss: 0.2472 - val_categorical_accuracy: 0.9545\n",
      "Epoch 50/55\n",
      "469/469 [==============================] - 22s 47ms/step - loss: 0.0041 - categorical_accuracy: 0.9989 - val_loss: 0.2557 - val_categorical_accuracy: 0.9532\n",
      "Epoch 51/55\n",
      "469/469 [==============================] - 21s 46ms/step - loss: 0.0074 - categorical_accuracy: 0.9974 - val_loss: 0.2711 - val_categorical_accuracy: 0.9491\n",
      "Epoch 52/55\n",
      "469/469 [==============================] - 21s 46ms/step - loss: 0.0089 - categorical_accuracy: 0.9970 - val_loss: 0.2580 - val_categorical_accuracy: 0.9537\n",
      "Epoch 53/55\n",
      "469/469 [==============================] - 21s 45ms/step - loss: 0.0041 - categorical_accuracy: 0.9988 - val_loss: 0.2673 - val_categorical_accuracy: 0.9516\n",
      "Epoch 54/55\n",
      "469/469 [==============================] - 21s 46ms/step - loss: 0.0018 - categorical_accuracy: 0.9996 - val_loss: 0.2572 - val_categorical_accuracy: 0.9552\n",
      "Epoch 55/55\n",
      "469/469 [==============================] - 21s 46ms/step - loss: 2.6557e-04 - categorical_accuracy: 1.0000 - val_loss: 0.2333 - val_categorical_accuracy: 0.9598\n",
      "end of training\n",
      "--- 1273.42919588089 seconds ---\n"
     ]
    }
   ],
   "source": [
    "print(f'Dimension of train_data (MB): {sys.getsizeof(train_data)/1e6:.0f}', train_data.shape)\n",
    "\n",
    "\n",
    "'''     MODEL1:\n",
    "        Each image contains one card.\n",
    "        The card is recognised looking separately to the suit and to the carder\n",
    "\n",
    "        lo metteremo dentro una funzione train_model1()\n",
    "'''\n",
    "\n",
    "def card_to_suit(card):\n",
    "    if card<11:\n",
    "        return [1.,0.,0.,0.]\n",
    "    elif card<21:\n",
    "        return [0.,1.,0.,0.]\n",
    "    elif card<31:\n",
    "        return [0.,0.,1.,0.]\n",
    "    else:\n",
    "        return [0.,0.,0.,1.]\n",
    "\n",
    "\n",
    "model1 = True\n",
    "if model1:\n",
    "    # creating the ground truth labels\n",
    "    labels = np.array([card_to_suit(card) for card in target])\n",
    "\n",
    "    # building the model: suit\n",
    "    inputs = Input(shape=train_data[0].shape)\n",
    "    conv = Conv2D(3, (2,2), activation = 'relu', input_shape=train_data[0].shape)(inputs)\n",
    "    pool = MaxPooling2D(pool_size=(2,2))(conv)\n",
    "    conv = Conv2D(3, (2,2), activation = 'relu')(pool)\n",
    "    pool = MaxPooling2D(pool_size=(2,2))(conv)\n",
    "    conv = Conv2D(2, (2,2), activation = 'relu')(pool)\n",
    "    pool = MaxPooling2D(pool_size=(3,3))(conv)\n",
    "\n",
    "    flatten = Flatten()(pool)\n",
    "    dense = Dense(32, activation='relu')(flatten)\n",
    "    outputs = Dense(4,activation='softmax')(dense)\n",
    "\n",
    "    model = Model(inputs=inputs, outputs=outputs)\n",
    "    model.compile(loss=\"categorical_crossentropy\", optimizer='adam',metrics=['categorical_accuracy'])\n",
    "\n",
    "    model.summary()\n",
    "    history = model.fit(train_data, labels, validation_split=0.8, epochs= EPOCHS, verbose=1)\n",
    "    \n",
    "    print('end of training')\n",
    "    print(\"--- %s seconds ---\" % (time.time() - start))\n",
    "\n"
   ]
  },
  {
   "cell_type": "code",
   "execution_count": 9,
   "metadata": {
    "colab": {
     "base_uri": "https://localhost:8080/",
     "height": 462,
     "referenced_widgets": [
      "6704809b29124e5e9f6e1afa43e82c68",
      "fb336fbbc8b842afbe6dc509e1ad2bcf",
      "88e16c8153414b80b1556d183624f794",
      "49d09832ad2e4ed79fc5cf91344bfe1b",
      "165807261bbb4b51b78f56ca726a413d",
      "c950f3fbd1e44360a324c6b899fc574f",
      "87d9ba8fce53406ab96c1dc698ef8f2a",
      "ef5574ab3b0f4573b92a6348cf9a9e6d"
     ]
    },
    "id": "3t3VMAkoyLLM",
    "outputId": "30bda32b-1d05-4ad8-c3cd-e4dd88134c14"
   },
   "outputs": [
    {
     "name": "stdout",
     "output_type": "stream",
     "text": [
      "./scopa/scopa/new_deck/*.jpg\n"
     ]
    },
    {
     "data": {
      "application/vnd.jupyter.widget-view+json": {
       "model_id": "6704809b29124e5e9f6e1afa43e82c68",
       "version_major": 2,
       "version_minor": 0
      },
      "text/plain": [
       "HBox(children=(FloatProgress(value=0.0, max=7500.0), HTML(value='')))"
      ]
     },
     "metadata": {
      "tags": []
     },
     "output_type": "display_data"
    },
    {
     "name": "stdout",
     "output_type": "stream",
     "text": [
      "\n",
      "Accuracy test set:\t96.1%\n",
      "val_categorical_accuracy\n",
      "[0.613556444644928, 0.8189696669578552, 0.8822519779205322, 0.9063015580177307, 0.9232679605484009, 0.9254845976829529, 0.9291344881057739, 0.9349844455718994, 0.9329344630241394, 0.9274178743362427, 0.9318511486053467, 0.9425342679023743, 0.9416009783744812, 0.9408509731292725, 0.9419842958450317, 0.9423342943191528, 0.9366177320480347, 0.9465342164039612, 0.9444342851638794, 0.9397010207176208, 0.9426009654998779, 0.9470175504684448, 0.9480008482933044, 0.9521341323852539, 0.945584237575531, 0.9444175958633423, 0.9477675557136536, 0.9504841566085815, 0.9483675360679626, 0.9498008489608765, 0.9486508369445801, 0.9527508020401001, 0.9519007802009583, 0.9485341906547546, 0.9513508081436157, 0.9493841528892517, 0.9518008232116699, 0.9526007771492004, 0.9513841271400452, 0.9412176609039307, 0.9570507407188416, 0.9508841633796692, 0.9549174308776855, 0.9500341415405273, 0.9537507891654968, 0.9523007869720459, 0.9525008201599121, 0.9552174210548401, 0.9545174241065979, 0.9531508088111877, 0.9490675330162048, 0.9536840915679932, 0.9515841603279114, 0.9552174210548401, 0.9598173499107361]\n",
      "categorical_accuracy\n",
      "[0.4491632878780365, 0.7514501214027405, 0.8875924944877625, 0.938129186630249, 0.9653310179710388, 0.9767317771911621, 0.9826655387878418, 0.9860657453536987, 0.9897326231002808, 0.9883992075920105, 0.9893326163291931, 0.9888659119606018, 0.9928662180900574, 0.9918661117553711, 0.9943996071815491, 0.9925994873046875, 0.9950663447380066, 0.9960663914680481, 0.9967331290245056, 0.9923328161239624, 0.9925328493118286, 0.9961330890655518, 0.9981998801231384, 0.9965997934341431, 0.9959330558776855, 0.9933328628540039, 0.9936662316322327, 0.9961997270584106, 0.9978665113449097, 0.996666431427002, 0.9959997534751892, 0.9959997534751892, 0.9976665377616882, 0.9972664713859558, 0.9957330226898193, 0.9970664978027344, 0.9957330226898193, 0.9985998868942261, 0.9971998333930969, 0.9967331290245056, 0.9982665777206421, 0.9951329827308655, 0.9989999532699585, 0.9979332089424133, 0.9983999133110046, 0.9975331425666809, 0.9960663914680481, 0.9978665113449097, 0.998866617679596, 0.9989999532699585, 0.9971331357955933, 0.9958664178848267, 0.9981331825256348, 0.9995999932289124, 1.0]\n"
     ]
    },
    {
     "data": {
      "image/png": "[encoded data removed]",
      "text/plain": [
       "<Figure size 432x288 with 1 Axes>"
      ]
     },
     "metadata": {
      "needs_background": "light",
      "tags": []
     },
     "output_type": "display_data"
    },
    {
     "name": "stdout",
     "output_type": "stream",
     "text": [
      "----------------------------------------------\n"
     ]
    }
   ],
   "source": [
    "test_data, target = generate_cards(int(n_samples/10), 1, True)\n",
    "\n",
    "test_pred = model.predict(test_data)\n",
    "test_pred = np.array([np.argmax(test_pred[i]) for i in range(len(test_pred))])\n",
    "test_label = np.array([card_to_suit(card) for card in target])\n",
    "test_label = np.array([np.argmax(test_label[i]) for i in range(len(test_label))])\n",
    "\n",
    "from sklearn import metrics\n",
    "\n",
    "print(f'Accuracy test set:\\t{metrics.accuracy_score(test_label, test_pred):.1%}')\n",
    "print('val_categorical_accuracy')\n",
    "print(history.history[\"val_categorical_accuracy\"])\n",
    "print('categorical_accuracy')\n",
    "print(history.history[\"categorical_accuracy\"])\n",
    "\n",
    "\n",
    "plt.plot(history.history[\"categorical_accuracy\"], label='Accuracy')\n",
    "plt.plot(history.history[\"val_categorical_accuracy\"], label='Val Accuracy')\n",
    "plt.xlabel('Epochs')\n",
    "plt.legend()\n",
    "plt.show()\n",
    "\n",
    "print('----------------------------------------------')"
   ]
  },
  {
   "cell_type": "code",
   "execution_count": 10,
   "metadata": {
    "id": "PXwkIgfz56Oq"
   },
   "outputs": [],
   "source": [
    "save = True\n",
    "if save:\n",
    "  if on_colab:\n",
    "    model.save('./scopa/scopa/new_models/suit_model.h5') \n",
    "  else:\n",
    "    model.save('./new_models/suit_model.h5')"
   ]
  }
 ],
 "metadata": {
  "accelerator": "GPU",
  "colab": {
   "collapsed_sections": [],
   "name": "met1_suit.ipynb",
   "provenance": [],
   "toc_visible": true
  },
  "kernelspec": {
   "display_name": "Python 3",
   "language": "python",
   "name": "python3"
  },
  "language_info": {
   "codemirror_mode": {
    "name": "ipython",
    "version": 3
   },
   "file_extension": ".py",
   "mimetype": "text/x-python",
   "name": "python",
   "nbconvert_exporter": "python",
   "pygments_lexer": "ipython3",
   "version": "3.7.9"
  },
  "widgets": {
   "application/vnd.jupyter.widget-state+json": {
    "165807261bbb4b51b78f56ca726a413d": {
     "model_module": "@jupyter-widgets/controls",
     "model_name": "ProgressStyleModel",
     "state": {
      "_model_module": "@jupyter-widgets/controls",
      "_model_module_version": "1.5.0",
      "_model_name": "ProgressStyleModel",
      "_view_count": null,
      "_view_module": "@jupyter-widgets/base",
      "_view_module_version": "1.2.0",
      "_view_name": "StyleView",
      "bar_color": null,
      "description_width": "initial"
     }
    },
    "217391dc18f349739ae3287d4fcd973a": {
     "model_module": "@jupyter-widgets/controls",
     "model_name": "ProgressStyleModel",
     "state": {
      "_model_module": "@jupyter-widgets/controls",
      "_model_module_version": "1.5.0",
      "_model_name": "ProgressStyleModel",
      "_view_count": null,
      "_view_module": "@jupyter-widgets/base",
      "_view_module_version": "1.2.0",
      "_view_name": "StyleView",
      "bar_color": null,
      "description_width": "initial"
     }
    },
    "3ba60a8e323d461f9dc81d216af00a0f": {
     "model_module": "@jupyter-widgets/controls",
     "model_name": "FloatProgressModel",
     "state": {
      "_dom_classes": [],
      "_model_module": "@jupyter-widgets/controls",
      "_model_module_version": "1.5.0",
      "_model_name": "FloatProgressModel",
      "_view_count": null,
      "_view_module": "@jupyter-widgets/controls",
      "_view_module_version": "1.5.0",
      "_view_name": "ProgressView",
      "bar_style": "success",
      "description": "100%",
      "description_tooltip": null,
      "layout": "IPY_MODEL_f3c90db79de24ce587e54101e186e677",
      "max": 75000,
      "min": 0,
      "orientation": "horizontal",
      "style": "IPY_MODEL_217391dc18f349739ae3287d4fcd973a",
      "value": 75000
     }
    },
    "49d09832ad2e4ed79fc5cf91344bfe1b": {
     "model_module": "@jupyter-widgets/controls",
     "model_name": "HTMLModel",
     "state": {
      "_dom_classes": [],
      "_model_module": "@jupyter-widgets/controls",
      "_model_module_version": "1.5.0",
      "_model_name": "HTMLModel",
      "_view_count": null,
      "_view_module": "@jupyter-widgets/controls",
      "_view_module_version": "1.5.0",
      "_view_name": "HTMLView",
      "description": "",
      "description_tooltip": null,
      "layout": "IPY_MODEL_ef5574ab3b0f4573b92a6348cf9a9e6d",
      "placeholder": "​",
      "style": "IPY_MODEL_87d9ba8fce53406ab96c1dc698ef8f2a",
      "value": " 7500/7500 [00:10&lt;00:00, 735.34it/s]"
     }
    },
    "6704809b29124e5e9f6e1afa43e82c68": {
     "model_module": "@jupyter-widgets/controls",
     "model_name": "HBoxModel",
     "state": {
      "_dom_classes": [],
      "_model_module": "@jupyter-widgets/controls",
      "_model_module_version": "1.5.0",
      "_model_name": "HBoxModel",
      "_view_count": null,
      "_view_module": "@jupyter-widgets/controls",
      "_view_module_version": "1.5.0",
      "_view_name": "HBoxView",
      "box_style": "",
      "children": [
       "IPY_MODEL_88e16c8153414b80b1556d183624f794",
       "IPY_MODEL_49d09832ad2e4ed79fc5cf91344bfe1b"
      ],
      "layout": "IPY_MODEL_fb336fbbc8b842afbe6dc509e1ad2bcf"
     }
    },
    "87d9ba8fce53406ab96c1dc698ef8f2a": {
     "model_module": "@jupyter-widgets/controls",
     "model_name": "DescriptionStyleModel",
     "state": {
      "_model_module": "@jupyter-widgets/controls",
      "_model_module_version": "1.5.0",
      "_model_name": "DescriptionStyleModel",
      "_view_count": null,
      "_view_module": "@jupyter-widgets/base",
      "_view_module_version": "1.2.0",
      "_view_name": "StyleView",
      "description_width": ""
     }
    },
    "88e16c8153414b80b1556d183624f794": {
     "model_module": "@jupyter-widgets/controls",
     "model_name": "FloatProgressModel",
     "state": {
      "_dom_classes": [],
      "_model_module": "@jupyter-widgets/controls",
      "_model_module_version": "1.5.0",
      "_model_name": "FloatProgressModel",
      "_view_count": null,
      "_view_module": "@jupyter-widgets/controls",
      "_view_module_version": "1.5.0",
      "_view_name": "ProgressView",
      "bar_style": "success",
      "description": "100%",
      "description_tooltip": null,
      "layout": "IPY_MODEL_c950f3fbd1e44360a324c6b899fc574f",
      "max": 7500,
      "min": 0,
      "orientation": "horizontal",
      "style": "IPY_MODEL_165807261bbb4b51b78f56ca726a413d",
      "value": 7500
     }
    },
    "9c3548ff5e6640b69e2c0bc431f1d86e": {
     "model_module": "@jupyter-widgets/controls",
     "model_name": "HBoxModel",
     "state": {
      "_dom_classes": [],
      "_model_module": "@jupyter-widgets/controls",
      "_model_module_version": "1.5.0",
      "_model_name": "HBoxModel",
      "_view_count": null,
      "_view_module": "@jupyter-widgets/controls",
      "_view_module_version": "1.5.0",
      "_view_name": "HBoxView",
      "box_style": "",
      "children": [
       "IPY_MODEL_3ba60a8e323d461f9dc81d216af00a0f",
       "IPY_MODEL_f971d95cf20b4be1822ee5e6bb63b057"
      ],
      "layout": "IPY_MODEL_e0be167d8e3b48719f9014be547bbcf5"
     }
    },
    "aa10ed9bc63b4ed5802b3e22559d0b28": {
     "model_module": "@jupyter-widgets/base",
     "model_name": "LayoutModel",
     "state": {
      "_model_module": "@jupyter-widgets/base",
      "_model_module_version": "1.2.0",
      "_model_name": "LayoutModel",
      "_view_count": null,
      "_view_module": "@jupyter-widgets/base",
      "_view_module_version": "1.2.0",
      "_view_name": "LayoutView",
      "align_content": null,
      "align_items": null,
      "align_self": null,
      "border": null,
      "bottom": null,
      "display": null,
      "flex": null,
      "flex_flow": null,
      "grid_area": null,
      "grid_auto_columns": null,
      "grid_auto_flow": null,
      "grid_auto_rows": null,
      "grid_column": null,
      "grid_gap": null,
      "grid_row": null,
      "grid_template_areas": null,
      "grid_template_columns": null,
      "grid_template_rows": null,
      "height": null,
      "justify_content": null,
      "justify_items": null,
      "left": null,
      "margin": null,
      "max_height": null,
      "max_width": null,
      "min_height": null,
      "min_width": null,
      "object_fit": null,
      "object_position": null,
      "order": null,
      "overflow": null,
      "overflow_x": null,
      "overflow_y": null,
      "padding": null,
      "right": null,
      "top": null,
      "visibility": null,
      "width": null
     }
    },
    "c950f3fbd1e44360a324c6b899fc574f": {
     "model_module": "@jupyter-widgets/base",
     "model_name": "LayoutModel",
     "state": {
      "_model_module": "@jupyter-widgets/base",
      "_model_module_version": "1.2.0",
      "_model_name": "LayoutModel",
      "_view_count": null,
      "_view_module": "@jupyter-widgets/base",
      "_view_module_version": "1.2.0",
      "_view_name": "LayoutView",
      "align_content": null,
      "align_items": null,
      "align_self": null,
      "border": null,
      "bottom": null,
      "display": null,
      "flex": null,
      "flex_flow": null,
      "grid_area": null,
      "grid_auto_columns": null,
      "grid_auto_flow": null,
      "grid_auto_rows": null,
      "grid_column": null,
      "grid_gap": null,
      "grid_row": null,
      "grid_template_areas": null,
      "grid_template_columns": null,
      "grid_template_rows": null,
      "height": null,
      "justify_content": null,
      "justify_items": null,
      "left": null,
      "margin": null,
      "max_height": null,
      "max_width": null,
      "min_height": null,
      "min_width": null,
      "object_fit": null,
      "object_position": null,
      "order": null,
      "overflow": null,
      "overflow_x": null,
      "overflow_y": null,
      "padding": null,
      "right": null,
      "top": null,
      "visibility": null,
      "width": null
     }
    },
    "ca35acb87d0c42e3b1a299c337a1c594": {
     "model_module": "@jupyter-widgets/controls",
     "model_name": "DescriptionStyleModel",
     "state": {
      "_model_module": "@jupyter-widgets/controls",
      "_model_module_version": "1.5.0",
      "_model_name": "DescriptionStyleModel",
      "_view_count": null,
      "_view_module": "@jupyter-widgets/base",
      "_view_module_version": "1.2.0",
      "_view_name": "StyleView",
      "description_width": ""
     }
    },
    "e0be167d8e3b48719f9014be547bbcf5": {
     "model_module": "@jupyter-widgets/base",
     "model_name": "LayoutModel",
     "state": {
      "_model_module": "@jupyter-widgets/base",
      "_model_module_version": "1.2.0",
      "_model_name": "LayoutModel",
      "_view_count": null,
      "_view_module": "@jupyter-widgets/base",
      "_view_module_version": "1.2.0",
      "_view_name": "LayoutView",
      "align_content": null,
      "align_items": null,
      "align_self": null,
      "border": null,
      "bottom": null,
      "display": null,
      "flex": null,
      "flex_flow": null,
      "grid_area": null,
      "grid_auto_columns": null,
      "grid_auto_flow": null,
      "grid_auto_rows": null,
      "grid_column": null,
      "grid_gap": null,
      "grid_row": null,
      "grid_template_areas": null,
      "grid_template_columns": null,
      "grid_template_rows": null,
      "height": null,
      "justify_content": null,
      "justify_items": null,
      "left": null,
      "margin": null,
      "max_height": null,
      "max_width": null,
      "min_height": null,
      "min_width": null,
      "object_fit": null,
      "object_position": null,
      "order": null,
      "overflow": null,
      "overflow_x": null,
      "overflow_y": null,
      "padding": null,
      "right": null,
      "top": null,
      "visibility": null,
      "width": null
     }
    },
    "ef5574ab3b0f4573b92a6348cf9a9e6d": {
     "model_module": "@jupyter-widgets/base",
     "model_name": "LayoutModel",
     "state": {
      "_model_module": "@jupyter-widgets/base",
      "_model_module_version": "1.2.0",
      "_model_name": "LayoutModel",
      "_view_count": null,
      "_view_module": "@jupyter-widgets/base",
      "_view_module_version": "1.2.0",
      "_view_name": "LayoutView",
      "align_content": null,
      "align_items": null,
      "align_self": null,
      "border": null,
      "bottom": null,
      "display": null,
      "flex": null,
      "flex_flow": null,
      "grid_area": null,
      "grid_auto_columns": null,
      "grid_auto_flow": null,
      "grid_auto_rows": null,
      "grid_column": null,
      "grid_gap": null,
      "grid_row": null,
      "grid_template_areas": null,
      "grid_template_columns": null,
      "grid_template_rows": null,
      "height": null,
      "justify_content": null,
      "justify_items": null,
      "left": null,
      "margin": null,
      "max_height": null,
      "max_width": null,
      "min_height": null,
      "min_width": null,
      "object_fit": null,
      "object_position": null,
      "order": null,
      "overflow": null,
      "overflow_x": null,
      "overflow_y": null,
      "padding": null,
      "right": null,
      "top": null,
      "visibility": null,
      "width": null
     }
    },
    "f3c90db79de24ce587e54101e186e677": {
     "model_module": "@jupyter-widgets/base",
     "model_name": "LayoutModel",
     "state": {
      "_model_module": "@jupyter-widgets/base",
      "_model_module_version": "1.2.0",
      "_model_name": "LayoutModel",
      "_view_count": null,
      "_view_module": "@jupyter-widgets/base",
      "_view_module_version": "1.2.0",
      "_view_name": "LayoutView",
      "align_content": null,
      "align_items": null,
      "align_self": null,
      "border": null,
      "bottom": null,
      "display": null,
      "flex": null,
      "flex_flow": null,
      "grid_area": null,
      "grid_auto_columns": null,
      "grid_auto_flow": null,
      "grid_auto_rows": null,
      "grid_column": null,
      "grid_gap": null,
      "grid_row": null,
      "grid_template_areas": null,
      "grid_template_columns": null,
      "grid_template_rows": null,
      "height": null,
      "justify_content": null,
      "justify_items": null,
      "left": null,
      "margin": null,
      "max_height": null,
      "max_width": null,
      "min_height": null,
      "min_width": null,
      "object_fit": null,
      "object_position": null,
      "order": null,
      "overflow": null,
      "overflow_x": null,
      "overflow_y": null,
      "padding": null,
      "right": null,
      "top": null,
      "visibility": null,
      "width": null
     }
    },
    "f971d95cf20b4be1822ee5e6bb63b057": {
     "model_module": "@jupyter-widgets/controls",
     "model_name": "HTMLModel",
     "state": {
      "_dom_classes": [],
      "_model_module": "@jupyter-widgets/controls",
      "_model_module_version": "1.5.0",
      "_model_name": "HTMLModel",
      "_view_count": null,
      "_view_module": "@jupyter-widgets/controls",
      "_view_module_version": "1.5.0",
      "_view_name": "HTMLView",
      "description": "",
      "description_tooltip": null,
      "layout": "IPY_MODEL_aa10ed9bc63b4ed5802b3e22559d0b28",
      "placeholder": "​",
      "style": "IPY_MODEL_ca35acb87d0c42e3b1a299c337a1c594",
      "value": " 75000/75000 [01:24&lt;00:00, 886.04it/s]"
     }
    },
    "fb336fbbc8b842afbe6dc509e1ad2bcf": {
     "model_module": "@jupyter-widgets/base",
     "model_name": "LayoutModel",
     "state": {
      "_model_module": "@jupyter-widgets/base",
      "_model_module_version": "1.2.0",
      "_model_name": "LayoutModel",
      "_view_count": null,
      "_view_module": "@jupyter-widgets/base",
      "_view_module_version": "1.2.0",
      "_view_name": "LayoutView",
      "align_content": null,
      "align_items": null,
      "align_self": null,
      "border": null,
      "bottom": null,
      "display": null,
      "flex": null,
      "flex_flow": null,
      "grid_area": null,
      "grid_auto_columns": null,
      "grid_auto_flow": null,
      "grid_auto_rows": null,
      "grid_column": null,
      "grid_gap": null,
      "grid_row": null,
      "grid_template_areas": null,
      "grid_template_columns": null,
      "grid_template_rows": null,
      "height": null,
      "justify_content": null,
      "justify_items": null,
      "left": null,
      "margin": null,
      "max_height": null,
      "max_width": null,
      "min_height": null,
      "min_width": null,
      "object_fit": null,
      "object_position": null,
      "order": null,
      "overflow": null,
      "overflow_x": null,
      "overflow_y": null,
      "padding": null,
      "right": null,
      "top": null,
      "visibility": null,
      "width": null
     }
    }
   }
  }
 },
 "nbformat": 4,
 "nbformat_minor": 1
}
