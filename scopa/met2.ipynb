{
  "nbformat": 4,
  "nbformat_minor": 0,
  "metadata": {
    "accelerator": "GPU",
    "colab": {
      "name": "met2.ipynb",
      "provenance": [],
      "collapsed_sections": [],
      "toc_visible": true
    },
    "kernelspec": {
      "display_name": "Python 3",
      "language": "python",
      "name": "python3"
    },
    "language_info": {
      "codemirror_mode": {
        "name": "ipython",
        "version": 3
      },
      "file_extension": ".py",
      "mimetype": "text/x-python",
      "name": "python",
      "nbconvert_exporter": "python",
      "pygments_lexer": "ipython3",
      "version": "3.7.7"
    },
    "widgets": {
      "application/vnd.jupyter.widget-state+json": {
        "858c66578978469cbcd846018a6cd5df": {
          "model_module": "@jupyter-widgets/controls",
          "model_name": "HBoxModel",
          "state": {
            "_view_name": "HBoxView",
            "_dom_classes": [],
            "_model_name": "HBoxModel",
            "_view_module": "@jupyter-widgets/controls",
            "_model_module_version": "1.5.0",
            "_view_count": null,
            "_view_module_version": "1.5.0",
            "box_style": "",
            "layout": "IPY_MODEL_dc87444d8e3849288e8aa17ca9eae987",
            "_model_module": "@jupyter-widgets/controls",
            "children": [
              "IPY_MODEL_9cec9086800549a0a89614ee5c08a92a",
              "IPY_MODEL_d65d85e5378349b78f149de4253d5443"
            ]
          }
        },
        "dc87444d8e3849288e8aa17ca9eae987": {
          "model_module": "@jupyter-widgets/base",
          "model_name": "LayoutModel",
          "state": {
            "_view_name": "LayoutView",
            "grid_template_rows": null,
            "right": null,
            "justify_content": null,
            "_view_module": "@jupyter-widgets/base",
            "overflow": null,
            "_model_module_version": "1.2.0",
            "_view_count": null,
            "flex_flow": null,
            "width": null,
            "min_width": null,
            "border": null,
            "align_items": null,
            "bottom": null,
            "_model_module": "@jupyter-widgets/base",
            "top": null,
            "grid_column": null,
            "overflow_y": null,
            "overflow_x": null,
            "grid_auto_flow": null,
            "grid_area": null,
            "grid_template_columns": null,
            "flex": null,
            "_model_name": "LayoutModel",
            "justify_items": null,
            "grid_row": null,
            "max_height": null,
            "align_content": null,
            "visibility": null,
            "align_self": null,
            "height": null,
            "min_height": null,
            "padding": null,
            "grid_auto_rows": null,
            "grid_gap": null,
            "max_width": null,
            "order": null,
            "_view_module_version": "1.2.0",
            "grid_template_areas": null,
            "object_position": null,
            "object_fit": null,
            "grid_auto_columns": null,
            "margin": null,
            "display": null,
            "left": null
          }
        },
        "9cec9086800549a0a89614ee5c08a92a": {
          "model_module": "@jupyter-widgets/controls",
          "model_name": "FloatProgressModel",
          "state": {
            "_view_name": "ProgressView",
            "style": "IPY_MODEL_69c611b42b674f58ae1f67f6286abb9d",
            "_dom_classes": [],
            "description": "100%",
            "_model_name": "FloatProgressModel",
            "bar_style": "success",
            "max": 75000,
            "_view_module": "@jupyter-widgets/controls",
            "_model_module_version": "1.5.0",
            "value": 75000,
            "_view_count": null,
            "_view_module_version": "1.5.0",
            "orientation": "horizontal",
            "min": 0,
            "description_tooltip": null,
            "_model_module": "@jupyter-widgets/controls",
            "layout": "IPY_MODEL_4721025b6b364bf5a29536d119520350"
          }
        },
        "d65d85e5378349b78f149de4253d5443": {
          "model_module": "@jupyter-widgets/controls",
          "model_name": "HTMLModel",
          "state": {
            "_view_name": "HTMLView",
            "style": "IPY_MODEL_3dfb6a99f37b453496fcb913af4bc46e",
            "_dom_classes": [],
            "description": "",
            "_model_name": "HTMLModel",
            "placeholder": "​",
            "_view_module": "@jupyter-widgets/controls",
            "_model_module_version": "1.5.0",
            "value": " 75000/75000 [01:26&lt;00:00, 866.76it/s]",
            "_view_count": null,
            "_view_module_version": "1.5.0",
            "description_tooltip": null,
            "_model_module": "@jupyter-widgets/controls",
            "layout": "IPY_MODEL_44eb6a231fe049cfb8c3df291667d773"
          }
        },
        "69c611b42b674f58ae1f67f6286abb9d": {
          "model_module": "@jupyter-widgets/controls",
          "model_name": "ProgressStyleModel",
          "state": {
            "_view_name": "StyleView",
            "_model_name": "ProgressStyleModel",
            "description_width": "initial",
            "_view_module": "@jupyter-widgets/base",
            "_model_module_version": "1.5.0",
            "_view_count": null,
            "_view_module_version": "1.2.0",
            "bar_color": null,
            "_model_module": "@jupyter-widgets/controls"
          }
        },
        "4721025b6b364bf5a29536d119520350": {
          "model_module": "@jupyter-widgets/base",
          "model_name": "LayoutModel",
          "state": {
            "_view_name": "LayoutView",
            "grid_template_rows": null,
            "right": null,
            "justify_content": null,
            "_view_module": "@jupyter-widgets/base",
            "overflow": null,
            "_model_module_version": "1.2.0",
            "_view_count": null,
            "flex_flow": null,
            "width": null,
            "min_width": null,
            "border": null,
            "align_items": null,
            "bottom": null,
            "_model_module": "@jupyter-widgets/base",
            "top": null,
            "grid_column": null,
            "overflow_y": null,
            "overflow_x": null,
            "grid_auto_flow": null,
            "grid_area": null,
            "grid_template_columns": null,
            "flex": null,
            "_model_name": "LayoutModel",
            "justify_items": null,
            "grid_row": null,
            "max_height": null,
            "align_content": null,
            "visibility": null,
            "align_self": null,
            "height": null,
            "min_height": null,
            "padding": null,
            "grid_auto_rows": null,
            "grid_gap": null,
            "max_width": null,
            "order": null,
            "_view_module_version": "1.2.0",
            "grid_template_areas": null,
            "object_position": null,
            "object_fit": null,
            "grid_auto_columns": null,
            "margin": null,
            "display": null,
            "left": null
          }
        },
        "3dfb6a99f37b453496fcb913af4bc46e": {
          "model_module": "@jupyter-widgets/controls",
          "model_name": "DescriptionStyleModel",
          "state": {
            "_view_name": "StyleView",
            "_model_name": "DescriptionStyleModel",
            "description_width": "",
            "_view_module": "@jupyter-widgets/base",
            "_model_module_version": "1.5.0",
            "_view_count": null,
            "_view_module_version": "1.2.0",
            "_model_module": "@jupyter-widgets/controls"
          }
        },
        "44eb6a231fe049cfb8c3df291667d773": {
          "model_module": "@jupyter-widgets/base",
          "model_name": "LayoutModel",
          "state": {
            "_view_name": "LayoutView",
            "grid_template_rows": null,
            "right": null,
            "justify_content": null,
            "_view_module": "@jupyter-widgets/base",
            "overflow": null,
            "_model_module_version": "1.2.0",
            "_view_count": null,
            "flex_flow": null,
            "width": null,
            "min_width": null,
            "border": null,
            "align_items": null,
            "bottom": null,
            "_model_module": "@jupyter-widgets/base",
            "top": null,
            "grid_column": null,
            "overflow_y": null,
            "overflow_x": null,
            "grid_auto_flow": null,
            "grid_area": null,
            "grid_template_columns": null,
            "flex": null,
            "_model_name": "LayoutModel",
            "justify_items": null,
            "grid_row": null,
            "max_height": null,
            "align_content": null,
            "visibility": null,
            "align_self": null,
            "height": null,
            "min_height": null,
            "padding": null,
            "grid_auto_rows": null,
            "grid_gap": null,
            "max_width": null,
            "order": null,
            "_view_module_version": "1.2.0",
            "grid_template_areas": null,
            "object_position": null,
            "object_fit": null,
            "grid_auto_columns": null,
            "margin": null,
            "display": null,
            "left": null
          }
        },
        "eddb837ab3ba40d88ce5c6966b957d4e": {
          "model_module": "@jupyter-widgets/controls",
          "model_name": "HBoxModel",
          "state": {
            "_view_name": "HBoxView",
            "_dom_classes": [],
            "_model_name": "HBoxModel",
            "_view_module": "@jupyter-widgets/controls",
            "_model_module_version": "1.5.0",
            "_view_count": null,
            "_view_module_version": "1.5.0",
            "box_style": "",
            "layout": "IPY_MODEL_b6f26cb392a64229a36a673a198b72cb",
            "_model_module": "@jupyter-widgets/controls",
            "children": [
              "IPY_MODEL_57bacbcdeab2435b90382476451c4e82",
              "IPY_MODEL_aae9db1968b74bb7b180316c8e80b51d"
            ]
          }
        },
        "b6f26cb392a64229a36a673a198b72cb": {
          "model_module": "@jupyter-widgets/base",
          "model_name": "LayoutModel",
          "state": {
            "_view_name": "LayoutView",
            "grid_template_rows": null,
            "right": null,
            "justify_content": null,
            "_view_module": "@jupyter-widgets/base",
            "overflow": null,
            "_model_module_version": "1.2.0",
            "_view_count": null,
            "flex_flow": null,
            "width": null,
            "min_width": null,
            "border": null,
            "align_items": null,
            "bottom": null,
            "_model_module": "@jupyter-widgets/base",
            "top": null,
            "grid_column": null,
            "overflow_y": null,
            "overflow_x": null,
            "grid_auto_flow": null,
            "grid_area": null,
            "grid_template_columns": null,
            "flex": null,
            "_model_name": "LayoutModel",
            "justify_items": null,
            "grid_row": null,
            "max_height": null,
            "align_content": null,
            "visibility": null,
            "align_self": null,
            "height": null,
            "min_height": null,
            "padding": null,
            "grid_auto_rows": null,
            "grid_gap": null,
            "max_width": null,
            "order": null,
            "_view_module_version": "1.2.0",
            "grid_template_areas": null,
            "object_position": null,
            "object_fit": null,
            "grid_auto_columns": null,
            "margin": null,
            "display": null,
            "left": null
          }
        },
        "57bacbcdeab2435b90382476451c4e82": {
          "model_module": "@jupyter-widgets/controls",
          "model_name": "FloatProgressModel",
          "state": {
            "_view_name": "ProgressView",
            "style": "IPY_MODEL_df7c74a8dfaf4413801a925f44cbb78a",
            "_dom_classes": [],
            "description": "100%",
            "_model_name": "FloatProgressModel",
            "bar_style": "success",
            "max": 7500,
            "_view_module": "@jupyter-widgets/controls",
            "_model_module_version": "1.5.0",
            "value": 7500,
            "_view_count": null,
            "_view_module_version": "1.5.0",
            "orientation": "horizontal",
            "min": 0,
            "description_tooltip": null,
            "_model_module": "@jupyter-widgets/controls",
            "layout": "IPY_MODEL_0832bf235ea14c11853496991ead1c09"
          }
        },
        "aae9db1968b74bb7b180316c8e80b51d": {
          "model_module": "@jupyter-widgets/controls",
          "model_name": "HTMLModel",
          "state": {
            "_view_name": "HTMLView",
            "style": "IPY_MODEL_535b38617a084b5bace5ead461bb51fb",
            "_dom_classes": [],
            "description": "",
            "_model_name": "HTMLModel",
            "placeholder": "​",
            "_view_module": "@jupyter-widgets/controls",
            "_model_module_version": "1.5.0",
            "value": " 7500/7500 [00:07&lt;00:00, 948.05it/s]",
            "_view_count": null,
            "_view_module_version": "1.5.0",
            "description_tooltip": null,
            "_model_module": "@jupyter-widgets/controls",
            "layout": "IPY_MODEL_9fb5dae154534264a704c308ce2a7542"
          }
        },
        "df7c74a8dfaf4413801a925f44cbb78a": {
          "model_module": "@jupyter-widgets/controls",
          "model_name": "ProgressStyleModel",
          "state": {
            "_view_name": "StyleView",
            "_model_name": "ProgressStyleModel",
            "description_width": "initial",
            "_view_module": "@jupyter-widgets/base",
            "_model_module_version": "1.5.0",
            "_view_count": null,
            "_view_module_version": "1.2.0",
            "bar_color": null,
            "_model_module": "@jupyter-widgets/controls"
          }
        },
        "0832bf235ea14c11853496991ead1c09": {
          "model_module": "@jupyter-widgets/base",
          "model_name": "LayoutModel",
          "state": {
            "_view_name": "LayoutView",
            "grid_template_rows": null,
            "right": null,
            "justify_content": null,
            "_view_module": "@jupyter-widgets/base",
            "overflow": null,
            "_model_module_version": "1.2.0",
            "_view_count": null,
            "flex_flow": null,
            "width": null,
            "min_width": null,
            "border": null,
            "align_items": null,
            "bottom": null,
            "_model_module": "@jupyter-widgets/base",
            "top": null,
            "grid_column": null,
            "overflow_y": null,
            "overflow_x": null,
            "grid_auto_flow": null,
            "grid_area": null,
            "grid_template_columns": null,
            "flex": null,
            "_model_name": "LayoutModel",
            "justify_items": null,
            "grid_row": null,
            "max_height": null,
            "align_content": null,
            "visibility": null,
            "align_self": null,
            "height": null,
            "min_height": null,
            "padding": null,
            "grid_auto_rows": null,
            "grid_gap": null,
            "max_width": null,
            "order": null,
            "_view_module_version": "1.2.0",
            "grid_template_areas": null,
            "object_position": null,
            "object_fit": null,
            "grid_auto_columns": null,
            "margin": null,
            "display": null,
            "left": null
          }
        },
        "535b38617a084b5bace5ead461bb51fb": {
          "model_module": "@jupyter-widgets/controls",
          "model_name": "DescriptionStyleModel",
          "state": {
            "_view_name": "StyleView",
            "_model_name": "DescriptionStyleModel",
            "description_width": "",
            "_view_module": "@jupyter-widgets/base",
            "_model_module_version": "1.5.0",
            "_view_count": null,
            "_view_module_version": "1.2.0",
            "_model_module": "@jupyter-widgets/controls"
          }
        },
        "9fb5dae154534264a704c308ce2a7542": {
          "model_module": "@jupyter-widgets/base",
          "model_name": "LayoutModel",
          "state": {
            "_view_name": "LayoutView",
            "grid_template_rows": null,
            "right": null,
            "justify_content": null,
            "_view_module": "@jupyter-widgets/base",
            "overflow": null,
            "_model_module_version": "1.2.0",
            "_view_count": null,
            "flex_flow": null,
            "width": null,
            "min_width": null,
            "border": null,
            "align_items": null,
            "bottom": null,
            "_model_module": "@jupyter-widgets/base",
            "top": null,
            "grid_column": null,
            "overflow_y": null,
            "overflow_x": null,
            "grid_auto_flow": null,
            "grid_area": null,
            "grid_template_columns": null,
            "flex": null,
            "_model_name": "LayoutModel",
            "justify_items": null,
            "grid_row": null,
            "max_height": null,
            "align_content": null,
            "visibility": null,
            "align_self": null,
            "height": null,
            "min_height": null,
            "padding": null,
            "grid_auto_rows": null,
            "grid_gap": null,
            "max_width": null,
            "order": null,
            "_view_module_version": "1.2.0",
            "grid_template_areas": null,
            "object_position": null,
            "object_fit": null,
            "grid_auto_columns": null,
            "margin": null,
            "display": null,
            "left": null
          }
        }
      }
    }
  },
  "cells": [
    {
      "cell_type": "markdown",
      "metadata": {
        "id": "KjUE9JHxd6su"
      },
      "source": [
        "#Training model 2"
      ]
    },
    {
      "cell_type": "code",
      "metadata": {
        "id": "Ihi4OoMBdynA"
      },
      "source": [
        "import numpy as np\n",
        "import cv2\n",
        "import sys\n",
        "import random\n",
        "import glob\n",
        "import re\n",
        "import time\n",
        "import os\n",
        "from tqdm.notebook import tqdm as log_progress\n",
        "from matplotlib import pyplot as plt\n",
        "\n",
        "from tensorflow.keras.layers import Dense, Input, Conv2D, MaxPooling2D, Flatten\n",
        "from tensorflow.keras.models import Model"
      ],
      "execution_count": 1,
      "outputs": []
    },
    {
      "cell_type": "markdown",
      "metadata": {
        "id": "6xqJmYiAfvrt"
      },
      "source": [
        "###Complete this basing on where you are running the notebook:"
      ]
    },
    {
      "cell_type": "code",
      "metadata": {
        "colab": {
          "base_uri": "https://localhost:8080/"
        },
        "id": "t4WP7KHfcH3e",
        "outputId": "0fbef428-b8fd-4043-c098-c258e4a716af"
      },
      "source": [
        "on_colab = True\n",
        "EPOCHS = 60\n",
        "LEN_TRAINING_DATA = 75000\n",
        "if on_colab:\n",
        "    !git clone https://github.com/andreorto98/scopa.git\n",
        "    path_to_deck = './scopa/scopa/new_deck/'\n",
        "if not on_colab:\n",
        "    path_to_deck = './new_deck/'"
      ],
      "execution_count": 2,
      "outputs": [
        {
          "output_type": "stream",
          "text": [
            "fatal: destination path 'scopa' already exists and is not an empty directory.\n"
          ],
          "name": "stdout"
        }
      ]
    },
    {
      "cell_type": "code",
      "metadata": {
        "id": "4fjWJ1Rid1Tl"
      },
      "source": [
        "def transform_img(img, angle = 0, scale = 1, tr = (0,0)):\n",
        "  input_img_shape = img.shape\n",
        "  img_center = (int(input_img_shape[0]/2), int(input_img_shape[1]/2))\n",
        "  trasl_mat = np.zeros((2,3))\n",
        "  trasl_mat[0,2]=tr[0]\n",
        "  trasl_mat[1,2]=tr[1]\n",
        "  trasl_mat[0,0] = trasl_mat[1][1] = 1\n",
        "  img = cv2.warpAffine(img, trasl_mat, img.shape[0:2], flags=cv2.INTER_LINEAR)\n",
        "  rot_mat = cv2.getRotationMatrix2D(img_center, angle, scale)\n",
        "  img = cv2.warpAffine(img, rot_mat, img.shape[0:2], flags=cv2.INTER_LINEAR)\n",
        "  return img.reshape(input_img_shape)\n",
        "\n",
        "\n",
        "\n",
        "def generate_cards(n=1, layers=3, ang = True, traslate=False):\n",
        "    cards = np.random.randint(1,41,n, np.uint8)\n",
        "    if ang:\n",
        "        angles= np.random.uniform(0,360,n)\n",
        "    else:\n",
        "        angles = np.full(n, 0.)\n",
        "    scales= np.random.uniform(0.9,1.1,n)\n",
        "    if layers == 1:\n",
        "        print(path_to_deck+\"*.jpg\")\n",
        "        inp_images = sorted([file for file in glob.glob(path_to_deck+\"*.jpg\")], key = string_to_n_card)\n",
        "        inp_images = [cv2.imread(file, cv2.IMREAD_GRAYSCALE).reshape(256,256,1) for file in inp_images]\n",
        "    elif layers == 3:\n",
        "        inp_images = sorted([file for file in glob.glob(\"./deck0/*.jpg\")], key = string_to_n_card)\n",
        "        inp_images = [cv2.imread(file)[232:488,232:488] for file in inp_images]\n",
        "    image_shape = inp_images[0].shape\n",
        "\n",
        "    if traslate:\n",
        "        marg = 5\n",
        "        max_tr_x = int(image_shape[0]/2-image_shape[0]/marg)\n",
        "        max_tr_y = int(image_shape[1]/2-image_shape[1]/marg)\n",
        "        tr_x = np.random.randint(0,max_tr_x,n)\n",
        "        tr_y = np.random.randint(0,max_tr_y,n)\n",
        "    else:\n",
        "        tr_x = np.zeros(n)\n",
        "        tr_y = np.zeros(n)\n",
        "\n",
        "    images = [transform_img(inp_images[cards[i]-1], angles[i], scales[i], (tr_x[i], tr_y[i]))\n",
        "              for i in log_progress(range(len(cards)))]\n",
        "\n",
        "    return np.array(images), np.array(cards)\n",
        "\n",
        "\n",
        "def string_to_n_card(str):\n",
        "    if str.startswith('.'):\n",
        "         words = re.split('_|/|.j', str)[-3:-1]\n",
        "    else: words = str.split('_')\n",
        "    suit_to_n = {'hearts':0, 'diamonds':10, 'clubs':20, 'spades':30}\n",
        "    return int(words[0])+suit_to_n[words[1]]"
      ],
      "execution_count": 3,
      "outputs": []
    },
    {
      "cell_type": "code",
      "metadata": {
        "colab": {
          "base_uri": "https://localhost:8080/"
        },
        "id": "3o5im7_2oygu",
        "outputId": "c2517d15-92b7-439b-c1fb-17a7a712357d"
      },
      "source": [
        "string_to_n_card('./new_deck/7_clubs.jpg')"
      ],
      "execution_count": 4,
      "outputs": [
        {
          "output_type": "execute_result",
          "data": {
            "text/plain": [
              "27"
            ]
          },
          "metadata": {
            "tags": []
          },
          "execution_count": 4
        }
      ]
    },
    {
      "cell_type": "code",
      "metadata": {
        "colab": {
          "base_uri": "https://localhost:8080/"
        },
        "id": "tNa6FUhIrlpn",
        "outputId": "8848da79-4c2f-4231-bec2-e05c3833597b"
      },
      "source": [
        "!ls"
      ],
      "execution_count": 5,
      "outputs": [
        {
          "output_type": "stream",
          "text": [
            "sample_data  scopa\n"
          ],
          "name": "stdout"
        }
      ]
    },
    {
      "cell_type": "code",
      "metadata": {
        "colab": {
          "base_uri": "https://localhost:8080/",
          "height": 148,
          "referenced_widgets": [
            "858c66578978469cbcd846018a6cd5df",
            "dc87444d8e3849288e8aa17ca9eae987",
            "9cec9086800549a0a89614ee5c08a92a",
            "d65d85e5378349b78f149de4253d5443",
            "69c611b42b674f58ae1f67f6286abb9d",
            "4721025b6b364bf5a29536d119520350",
            "3dfb6a99f37b453496fcb913af4bc46e",
            "44eb6a231fe049cfb8c3df291667d773"
          ]
        },
        "id": "7su59PYH2G1j",
        "outputId": "da6f87f3-d68d-4c8e-994c-492eab90d092"
      },
      "source": [
        "n_samples = LEN_TRAINING_DATA\n",
        "\n",
        "print('start time1')\n",
        "start = time.time()\n",
        "\n",
        "# Generate training data1\n",
        "train_data, target = generate_cards(n_samples, 1, True)\n",
        "\n",
        "print(train_data.shape, target.shape)\n",
        "\n",
        "print('cards_generated')\n",
        "print(\"--- %s seconds ---\" % (time.time() - start))"
      ],
      "execution_count": 6,
      "outputs": [
        {
          "output_type": "stream",
          "text": [
            "start time1\n",
            "./scopa/scopa/new_deck/*.jpg\n"
          ],
          "name": "stdout"
        },
        {
          "output_type": "display_data",
          "data": {
            "application/vnd.jupyter.widget-view+json": {
              "model_id": "858c66578978469cbcd846018a6cd5df",
              "version_minor": 0,
              "version_major": 2
            },
            "text/plain": [
              "HBox(children=(FloatProgress(value=0.0, max=75000.0), HTML(value='')))"
            ]
          },
          "metadata": {
            "tags": []
          }
        },
        {
          "output_type": "stream",
          "text": [
            "\n",
            "(75000, 256, 256, 1) (75000,)\n",
            "cards_generated\n",
            "--- 83.15358638763428 seconds ---\n"
          ],
          "name": "stdout"
        }
      ]
    },
    {
      "cell_type": "code",
      "metadata": {
        "colab": {
          "base_uri": "https://localhost:8080/"
        },
        "id": "QQKqZZm9rnSH",
        "outputId": "09932898-a74b-4c5a-d12e-3cceb9949f1d"
      },
      "source": [
        "print(f'Dimension of train_data (MB): {sys.getsizeof(train_data)/1e6:.0f}', train_data.shape)\n",
        "\n",
        "def card_to_card(card):\n",
        "    target = np.zeros(40)\n",
        "    target[(card-1)]=1.\n",
        "    return target\n",
        "    \n",
        "model1 = True\n",
        "if model1:\n",
        "    # creating the ground truth labels\n",
        "    labels = np.array([card_to_card(card) for card in target])\n",
        "\n",
        "    # building the model: suit\n",
        "    inputs = Input(shape=train_data[0].shape)\n",
        "    conv = Conv2D(3, (2,2), activation = 'relu', input_shape=train_data[0].shape)(inputs)\n",
        "    pool = MaxPooling2D(pool_size=(2,2))(conv)\n",
        "    conv = Conv2D(2, (2,2), activation = 'relu')(pool)\n",
        "    pool = MaxPooling2D(pool_size=(2,2))(conv)\n",
        "    conv = Conv2D(2, (2,2), activation = 'relu')(pool)\n",
        "    pool = MaxPooling2D(pool_size=(3,3))(conv)\n",
        "\n",
        "    flatten = Flatten()(pool)\n",
        "    dense = Dense(64, activation='relu')(flatten)\n",
        "    outputs = Dense(40,activation='softmax')(dense)\n",
        "\n",
        "    model = Model(inputs=inputs, outputs=outputs)\n",
        "    model.compile(loss=\"categorical_crossentropy\", optimizer='adam',metrics=['categorical_accuracy'])\n",
        "\n",
        "    model.summary()\n",
        "    history = model.fit(train_data, labels, validation_split=0.8, epochs= EPOCHS, verbose=1)\n",
        "    \n",
        "    print('end of training')\n",
        "    print(\"--- %s seconds ---\" % (time.time() - start))\n"
      ],
      "execution_count": 7,
      "outputs": [
        {
          "output_type": "stream",
          "text": [
            "Dimension of train_data (MB): 4915 (75000, 256, 256, 1)\n",
            "Model: \"model\"\n",
            "_________________________________________________________________\n",
            "Layer (type)                 Output Shape              Param #   \n",
            "=================================================================\n",
            "input_1 (InputLayer)         [(None, 256, 256, 1)]     0         \n",
            "_________________________________________________________________\n",
            "conv2d (Conv2D)              (None, 255, 255, 3)       15        \n",
            "_________________________________________________________________\n",
            "max_pooling2d (MaxPooling2D) (None, 127, 127, 3)       0         \n",
            "_________________________________________________________________\n",
            "conv2d_1 (Conv2D)            (None, 126, 126, 2)       26        \n",
            "_________________________________________________________________\n",
            "max_pooling2d_1 (MaxPooling2 (None, 63, 63, 2)         0         \n",
            "_________________________________________________________________\n",
            "conv2d_2 (Conv2D)            (None, 62, 62, 2)         18        \n",
            "_________________________________________________________________\n",
            "max_pooling2d_2 (MaxPooling2 (None, 20, 20, 2)         0         \n",
            "_________________________________________________________________\n",
            "flatten (Flatten)            (None, 800)               0         \n",
            "_________________________________________________________________\n",
            "dense (Dense)                (None, 64)                51264     \n",
            "_________________________________________________________________\n",
            "dense_1 (Dense)              (None, 40)                2600      \n",
            "=================================================================\n",
            "Total params: 53,923\n",
            "Trainable params: 53,923\n",
            "Non-trainable params: 0\n",
            "_________________________________________________________________\n",
            "Epoch 1/60\n",
            "469/469 [==============================] - 13s 24ms/step - loss: 5.1221 - categorical_accuracy: 0.0560 - val_loss: 2.6656 - val_categorical_accuracy: 0.1713\n",
            "Epoch 2/60\n",
            "469/469 [==============================] - 11s 23ms/step - loss: 2.1016 - categorical_accuracy: 0.2867 - val_loss: 1.0892 - val_categorical_accuracy: 0.5482\n",
            "Epoch 3/60\n",
            "469/469 [==============================] - 11s 23ms/step - loss: 0.9594 - categorical_accuracy: 0.5889 - val_loss: 0.6956 - val_categorical_accuracy: 0.7038\n",
            "Epoch 4/60\n",
            "469/469 [==============================] - 11s 23ms/step - loss: 0.6353 - categorical_accuracy: 0.7326 - val_loss: 0.5225 - val_categorical_accuracy: 0.7915\n",
            "Epoch 5/60\n",
            "469/469 [==============================] - 11s 23ms/step - loss: 0.4495 - categorical_accuracy: 0.8210 - val_loss: 0.4390 - val_categorical_accuracy: 0.8250\n",
            "Epoch 6/60\n",
            "469/469 [==============================] - 11s 23ms/step - loss: 0.3541 - categorical_accuracy: 0.8626 - val_loss: 0.3763 - val_categorical_accuracy: 0.8524\n",
            "Epoch 7/60\n",
            "469/469 [==============================] - 11s 23ms/step - loss: 0.2858 - categorical_accuracy: 0.8917 - val_loss: 0.3394 - val_categorical_accuracy: 0.8689\n",
            "Epoch 8/60\n",
            "469/469 [==============================] - 11s 23ms/step - loss: 0.2560 - categorical_accuracy: 0.9012 - val_loss: 0.2954 - val_categorical_accuracy: 0.8891\n",
            "Epoch 9/60\n",
            "469/469 [==============================] - 11s 23ms/step - loss: 0.2148 - categorical_accuracy: 0.9160 - val_loss: 0.2760 - val_categorical_accuracy: 0.8913\n",
            "Epoch 10/60\n",
            "469/469 [==============================] - 11s 23ms/step - loss: 0.1889 - categorical_accuracy: 0.9269 - val_loss: 0.2423 - val_categorical_accuracy: 0.9089\n",
            "Epoch 11/60\n",
            "469/469 [==============================] - 11s 23ms/step - loss: 0.1772 - categorical_accuracy: 0.9340 - val_loss: 0.2981 - val_categorical_accuracy: 0.8874\n",
            "Epoch 12/60\n",
            "469/469 [==============================] - 11s 23ms/step - loss: 0.1548 - categorical_accuracy: 0.9411 - val_loss: 0.2533 - val_categorical_accuracy: 0.9061\n",
            "Epoch 13/60\n",
            "469/469 [==============================] - 11s 23ms/step - loss: 0.1530 - categorical_accuracy: 0.9453 - val_loss: 0.2322 - val_categorical_accuracy: 0.9145\n",
            "Epoch 14/60\n",
            "469/469 [==============================] - 11s 23ms/step - loss: 0.1340 - categorical_accuracy: 0.9493 - val_loss: 0.2356 - val_categorical_accuracy: 0.9138\n",
            "Epoch 15/60\n",
            "469/469 [==============================] - 11s 23ms/step - loss: 0.1251 - categorical_accuracy: 0.9523 - val_loss: 0.2865 - val_categorical_accuracy: 0.8956\n",
            "Epoch 16/60\n",
            "469/469 [==============================] - 11s 23ms/step - loss: 0.1175 - categorical_accuracy: 0.9554 - val_loss: 0.1910 - val_categorical_accuracy: 0.9304\n",
            "Epoch 17/60\n",
            "469/469 [==============================] - 11s 23ms/step - loss: 0.1041 - categorical_accuracy: 0.9623 - val_loss: 0.2540 - val_categorical_accuracy: 0.9116\n",
            "Epoch 18/60\n",
            "469/469 [==============================] - 11s 23ms/step - loss: 0.1014 - categorical_accuracy: 0.9648 - val_loss: 0.2207 - val_categorical_accuracy: 0.9214\n",
            "Epoch 19/60\n",
            "469/469 [==============================] - 11s 23ms/step - loss: 0.1122 - categorical_accuracy: 0.9586 - val_loss: 0.1771 - val_categorical_accuracy: 0.9370\n",
            "Epoch 20/60\n",
            "469/469 [==============================] - 11s 23ms/step - loss: 0.0923 - categorical_accuracy: 0.9656 - val_loss: 0.1711 - val_categorical_accuracy: 0.9400\n",
            "Epoch 21/60\n",
            "469/469 [==============================] - 11s 23ms/step - loss: 0.0886 - categorical_accuracy: 0.9703 - val_loss: 0.1707 - val_categorical_accuracy: 0.9397\n",
            "Epoch 22/60\n",
            "469/469 [==============================] - 11s 23ms/step - loss: 0.0808 - categorical_accuracy: 0.9703 - val_loss: 0.1850 - val_categorical_accuracy: 0.9370\n",
            "Epoch 23/60\n",
            "469/469 [==============================] - 11s 23ms/step - loss: 0.0767 - categorical_accuracy: 0.9706 - val_loss: 0.1813 - val_categorical_accuracy: 0.9392\n",
            "Epoch 24/60\n",
            "469/469 [==============================] - 11s 23ms/step - loss: 0.0771 - categorical_accuracy: 0.9717 - val_loss: 0.1237 - val_categorical_accuracy: 0.9557\n",
            "Epoch 25/60\n",
            "469/469 [==============================] - 11s 23ms/step - loss: 0.0617 - categorical_accuracy: 0.9787 - val_loss: 0.1560 - val_categorical_accuracy: 0.9469\n",
            "Epoch 26/60\n",
            "469/469 [==============================] - 11s 23ms/step - loss: 0.0760 - categorical_accuracy: 0.9715 - val_loss: 0.1480 - val_categorical_accuracy: 0.9519\n",
            "Epoch 27/60\n",
            "469/469 [==============================] - 11s 23ms/step - loss: 0.0581 - categorical_accuracy: 0.9804 - val_loss: 0.1985 - val_categorical_accuracy: 0.9397\n",
            "Epoch 28/60\n",
            "469/469 [==============================] - 11s 23ms/step - loss: 0.0718 - categorical_accuracy: 0.9749 - val_loss: 0.2007 - val_categorical_accuracy: 0.9360\n",
            "Epoch 29/60\n",
            "469/469 [==============================] - 11s 23ms/step - loss: 0.0471 - categorical_accuracy: 0.9833 - val_loss: 0.1621 - val_categorical_accuracy: 0.9489\n",
            "Epoch 30/60\n",
            "469/469 [==============================] - 11s 23ms/step - loss: 0.0591 - categorical_accuracy: 0.9784 - val_loss: 0.1400 - val_categorical_accuracy: 0.9568\n",
            "Epoch 31/60\n",
            "469/469 [==============================] - 11s 23ms/step - loss: 0.0585 - categorical_accuracy: 0.9802 - val_loss: 0.2420 - val_categorical_accuracy: 0.9286\n",
            "Epoch 32/60\n",
            "469/469 [==============================] - 11s 23ms/step - loss: 0.0495 - categorical_accuracy: 0.9832 - val_loss: 0.1324 - val_categorical_accuracy: 0.9572\n",
            "Epoch 33/60\n",
            "469/469 [==============================] - 11s 23ms/step - loss: 0.0533 - categorical_accuracy: 0.9805 - val_loss: 0.1336 - val_categorical_accuracy: 0.9587\n",
            "Epoch 34/60\n",
            "469/469 [==============================] - 11s 23ms/step - loss: 0.0502 - categorical_accuracy: 0.9820 - val_loss: 0.1689 - val_categorical_accuracy: 0.9486\n",
            "Epoch 35/60\n",
            "469/469 [==============================] - 11s 23ms/step - loss: 0.0527 - categorical_accuracy: 0.9812 - val_loss: 0.1549 - val_categorical_accuracy: 0.9516\n",
            "Epoch 36/60\n",
            "469/469 [==============================] - 11s 23ms/step - loss: 0.0419 - categorical_accuracy: 0.9844 - val_loss: 0.0999 - val_categorical_accuracy: 0.9683\n",
            "Epoch 37/60\n",
            "469/469 [==============================] - 11s 23ms/step - loss: 0.0282 - categorical_accuracy: 0.9894 - val_loss: 0.1178 - val_categorical_accuracy: 0.9644\n",
            "Epoch 38/60\n",
            "469/469 [==============================] - 11s 23ms/step - loss: 0.0397 - categorical_accuracy: 0.9856 - val_loss: 0.1285 - val_categorical_accuracy: 0.9618\n",
            "Epoch 39/60\n",
            "469/469 [==============================] - 11s 23ms/step - loss: 0.0435 - categorical_accuracy: 0.9847 - val_loss: 0.1129 - val_categorical_accuracy: 0.9660\n",
            "Epoch 40/60\n",
            "469/469 [==============================] - 11s 23ms/step - loss: 0.0288 - categorical_accuracy: 0.9901 - val_loss: 0.1423 - val_categorical_accuracy: 0.9560\n",
            "Epoch 41/60\n",
            "469/469 [==============================] - 11s 23ms/step - loss: 0.0337 - categorical_accuracy: 0.9875 - val_loss: 0.0986 - val_categorical_accuracy: 0.9688\n",
            "Epoch 42/60\n",
            "469/469 [==============================] - 11s 23ms/step - loss: 0.0341 - categorical_accuracy: 0.9893 - val_loss: 0.1237 - val_categorical_accuracy: 0.9642\n",
            "Epoch 43/60\n",
            "469/469 [==============================] - 11s 23ms/step - loss: 0.0346 - categorical_accuracy: 0.9911 - val_loss: 0.1100 - val_categorical_accuracy: 0.9678\n",
            "Epoch 44/60\n",
            "469/469 [==============================] - 11s 23ms/step - loss: 0.0502 - categorical_accuracy: 0.9830 - val_loss: 0.1602 - val_categorical_accuracy: 0.9567\n",
            "Epoch 45/60\n",
            "469/469 [==============================] - 11s 23ms/step - loss: 0.0307 - categorical_accuracy: 0.9898 - val_loss: 0.1157 - val_categorical_accuracy: 0.9658\n",
            "Epoch 46/60\n",
            "469/469 [==============================] - 11s 23ms/step - loss: 0.0335 - categorical_accuracy: 0.9872 - val_loss: 0.0863 - val_categorical_accuracy: 0.9748\n",
            "Epoch 47/60\n",
            "469/469 [==============================] - 11s 23ms/step - loss: 0.0410 - categorical_accuracy: 0.9856 - val_loss: 0.2257 - val_categorical_accuracy: 0.9389\n",
            "Epoch 48/60\n",
            "469/469 [==============================] - 11s 23ms/step - loss: 0.0560 - categorical_accuracy: 0.9798 - val_loss: 0.2003 - val_categorical_accuracy: 0.9450\n",
            "Epoch 49/60\n",
            "469/469 [==============================] - 11s 23ms/step - loss: 0.0284 - categorical_accuracy: 0.9900 - val_loss: 0.1388 - val_categorical_accuracy: 0.9618\n",
            "Epoch 50/60\n",
            "469/469 [==============================] - 11s 23ms/step - loss: 0.0336 - categorical_accuracy: 0.9885 - val_loss: 0.0915 - val_categorical_accuracy: 0.9719\n",
            "Epoch 51/60\n",
            "469/469 [==============================] - 11s 23ms/step - loss: 0.0134 - categorical_accuracy: 0.9953 - val_loss: 0.1480 - val_categorical_accuracy: 0.9586\n",
            "Epoch 52/60\n",
            "469/469 [==============================] - 11s 23ms/step - loss: 0.0325 - categorical_accuracy: 0.9881 - val_loss: 0.0949 - val_categorical_accuracy: 0.9725\n",
            "Epoch 53/60\n",
            "469/469 [==============================] - 11s 23ms/step - loss: 0.0124 - categorical_accuracy: 0.9956 - val_loss: 0.0973 - val_categorical_accuracy: 0.9727\n",
            "Epoch 54/60\n",
            "469/469 [==============================] - 11s 23ms/step - loss: 0.0324 - categorical_accuracy: 0.9907 - val_loss: 0.1710 - val_categorical_accuracy: 0.9517\n",
            "Epoch 55/60\n",
            "469/469 [==============================] - 11s 23ms/step - loss: 0.0366 - categorical_accuracy: 0.9870 - val_loss: 0.1204 - val_categorical_accuracy: 0.9680\n",
            "Epoch 56/60\n",
            "469/469 [==============================] - 11s 24ms/step - loss: 0.0348 - categorical_accuracy: 0.9883 - val_loss: 0.1039 - val_categorical_accuracy: 0.9692\n",
            "Epoch 57/60\n",
            "469/469 [==============================] - 11s 23ms/step - loss: 0.0118 - categorical_accuracy: 0.9963 - val_loss: 0.1012 - val_categorical_accuracy: 0.9710\n",
            "Epoch 58/60\n",
            "469/469 [==============================] - 11s 23ms/step - loss: 0.0201 - categorical_accuracy: 0.9937 - val_loss: 0.0927 - val_categorical_accuracy: 0.9742\n",
            "Epoch 59/60\n",
            "469/469 [==============================] - 11s 23ms/step - loss: 0.0366 - categorical_accuracy: 0.9881 - val_loss: 0.0898 - val_categorical_accuracy: 0.9744\n",
            "Epoch 60/60\n",
            "469/469 [==============================] - 11s 23ms/step - loss: 0.0257 - categorical_accuracy: 0.9912 - val_loss: 0.1586 - val_categorical_accuracy: 0.9616\n",
            "end of training\n",
            "--- 728.9673798084259 seconds ---\n"
          ],
          "name": "stdout"
        }
      ]
    },
    {
      "cell_type": "markdown",
      "metadata": {
        "id": "9u20abaklA3P"
      },
      "source": [
        "###check if val_accuracy is acceptable "
      ]
    },
    {
      "cell_type": "code",
      "metadata": {
        "colab": {
          "base_uri": "https://localhost:8080/"
        },
        "id": "U1YHDlH4jyRB",
        "outputId": "cea35515-3706-4a34-e3ac-fa7d084be20a"
      },
      "source": [
        "if history.history['val_categorical_accuracy'][-1]<97:\n",
        "  history2 = model.fit(train_data, labels , validation_split=0.8, epochs= 5, verbose=1)"
      ],
      "execution_count": 15,
      "outputs": [
        {
          "output_type": "stream",
          "text": [
            "Epoch 1/5\n",
            "469/469 [==============================] - 11s 23ms/step - loss: 0.0229 - categorical_accuracy: 0.9925 - val_loss: 0.1573 - val_categorical_accuracy: 0.9593\n",
            "Epoch 2/5\n",
            "469/469 [==============================] - 11s 23ms/step - loss: 0.0227 - categorical_accuracy: 0.9922 - val_loss: 0.1327 - val_categorical_accuracy: 0.9640\n",
            "Epoch 3/5\n",
            "469/469 [==============================] - 11s 23ms/step - loss: 0.0241 - categorical_accuracy: 0.9917 - val_loss: 0.1134 - val_categorical_accuracy: 0.9710\n",
            "Epoch 4/5\n",
            "469/469 [==============================] - 11s 23ms/step - loss: 0.0294 - categorical_accuracy: 0.9907 - val_loss: 0.0934 - val_categorical_accuracy: 0.9752\n",
            "Epoch 5/5\n",
            "469/469 [==============================] - 11s 23ms/step - loss: 0.0290 - categorical_accuracy: 0.9909 - val_loss: 0.0774 - val_categorical_accuracy: 0.9778\n"
          ],
          "name": "stdout"
        }
      ]
    },
    {
      "cell_type": "code",
      "metadata": {
        "colab": {
          "base_uri": "https://localhost:8080/",
          "height": 462,
          "referenced_widgets": [
            "eddb837ab3ba40d88ce5c6966b957d4e",
            "b6f26cb392a64229a36a673a198b72cb",
            "57bacbcdeab2435b90382476451c4e82",
            "aae9db1968b74bb7b180316c8e80b51d",
            "df7c74a8dfaf4413801a925f44cbb78a",
            "0832bf235ea14c11853496991ead1c09",
            "535b38617a084b5bace5ead461bb51fb",
            "9fb5dae154534264a704c308ce2a7542"
          ]
        },
        "id": "3t3VMAkoyLLM",
        "outputId": "2e494e69-1e25-4440-d9ae-49753104ca2e"
      },
      "source": [
        "test_data, target = generate_cards(int(n_samples/10), 1, True)\n",
        "\n",
        "test_pred0 = model.predict(test_data)\n",
        "test_pred = np.array([np.argmax(test_pred0[i]) for i in range(len(test_pred0))])\n",
        "test_label = np.array([card_to_card(card) for card in target])\n",
        "test_label = np.array([np.argmax(test_label[i]) for i in range(len(test_label))])\n",
        "\n",
        "from sklearn import metrics\n",
        "\n",
        "print(f'Accuracy test set:\\t{metrics.accuracy_score(test_label, test_pred):.1%}')\n",
        "print('val_categorical_accuracy')\n",
        "print(history.history[\"val_categorical_accuracy\"])\n",
        "print('categorical_accuracy')\n",
        "print(history.history[\"categorical_accuracy\"])\n",
        "\n",
        "\n",
        "plt.plot(history.history[\"categorical_accuracy\"], label='Accuracy')\n",
        "plt.plot(history.history[\"val_categorical_accuracy\"], label='Val Accuracy')\n",
        "plt.xlabel('Epochs')\n",
        "plt.legend()\n",
        "plt.show()\n",
        "\n",
        "print('----------------------------------------------')"
      ],
      "execution_count": 16,
      "outputs": [
        {
          "output_type": "stream",
          "text": [
            "./scopa/scopa/new_deck/*.jpg\n"
          ],
          "name": "stdout"
        },
        {
          "output_type": "display_data",
          "data": {
            "application/vnd.jupyter.widget-view+json": {
              "model_id": "eddb837ab3ba40d88ce5c6966b957d4e",
              "version_minor": 0,
              "version_major": 2
            },
            "text/plain": [
              "HBox(children=(FloatProgress(value=0.0, max=7500.0), HTML(value='')))"
            ]
          },
          "metadata": {
            "tags": []
          }
        },
        {
          "output_type": "stream",
          "text": [
            "\n",
            "Accuracy test set:\t98.0%\n",
            "val_categorical_accuracy\n",
            "[0.17129714787006378, 0.5482075214385986, 0.7038049101829529, 0.7915034890174866, 0.8249529004096985, 0.8523691296577454, 0.8689355254173279, 0.8890685439109802, 0.8913185000419617, 0.9088681936264038, 0.8873851895332336, 0.9061182141304016, 0.914501428604126, 0.9138014316558838, 0.8956183791160583, 0.9303845167160034, 0.9115514755249023, 0.9213680028915405, 0.9370343685150146, 0.9400010108947754, 0.9397176504135132, 0.9370010495185852, 0.9391843676567078, 0.9557007551193237, 0.9468842148780823, 0.9519007802009583, 0.9397176504135132, 0.9360343813896179, 0.9489008784294128, 0.9567673802375793, 0.9286012053489685, 0.9572340250015259, 0.9587007164955139, 0.9485508799552917, 0.9515507817268372, 0.9682505130767822, 0.964400589466095, 0.961767315864563, 0.9659672379493713, 0.9560173749923706, 0.9687671661376953, 0.964150607585907, 0.9677838683128357, 0.9567340612411499, 0.9658339023590088, 0.9747837781906128, 0.9388676881790161, 0.9450175762176514, 0.9617506265640259, 0.9718671441078186, 0.9585673809051514, 0.9725337624549866, 0.9726837873458862, 0.9516674876213074, 0.9679505228996277, 0.9692338705062866, 0.9710171222686768, 0.9742337465286255, 0.9744170904159546, 0.9615672826766968]\n",
            "categorical_accuracy\n",
            "[0.0927395150065422, 0.38969263434410095, 0.6297086477279663, 0.7510500550270081, 0.8279218673706055, 0.8615907430648804, 0.8917927742004395, 0.9051269888877869, 0.9164611101150513, 0.9241282939910889, 0.9330621957778931, 0.9391292929649353, 0.9463964104652405, 0.9464631080627441, 0.9514634013175964, 0.9547303318977356, 0.9586639404296875, 0.9633975625038147, 0.9594639539718628, 0.961330771446228, 0.9703313708305359, 0.9702646732330322, 0.9675978422164917, 0.97226482629776, 0.9771984815597534, 0.9729982018470764, 0.9766651391983032, 0.974798321723938, 0.9814654588699341, 0.9767984747886658, 0.976465106010437, 0.9831321835517883, 0.9805320501327515, 0.9783318638801575, 0.9813987612724304, 0.9864657521247864, 0.9865990877151489, 0.9826655387878418, 0.9820654988288879, 0.9850656986236572, 0.989065945148468, 0.9869324564933777, 0.9894659519195557, 0.9833322167396545, 0.9873324632644653, 0.989932656288147, 0.9860657453536987, 0.9841989278793335, 0.9910660982131958, 0.987399160861969, 0.9913327693939209, 0.9874658584594727, 0.9955330491065979, 0.9843989610671997, 0.9896659851074219, 0.9870657920837402, 0.9976665377616882, 0.9909994006156921, 0.9838656187057495, 0.9927995204925537]\n"
          ],
          "name": "stdout"
        },
        {
          "output_type": "display_data",
          "data": {
            "image/png": "[encoded data removed]",
            "text/plain": [
              "<Figure size 432x288 with 1 Axes>"
            ]
          },
          "metadata": {
            "tags": [],
            "needs_background": "light"
          }
        },
        {
          "output_type": "stream",
          "text": [
            "----------------------------------------------\n"
          ],
          "name": "stdout"
        }
      ]
    },
    {
      "cell_type": "code",
      "metadata": {
        "id": "PXwkIgfz56Oq"
      },
      "source": [
        "save = False\n",
        "if save:\n",
        "  if on_colab:\n",
        "    model.save('./scopa/scopa/new_models/all_model_1.h5') \n",
        "  else:\n",
        "    model.save('./new_models/all_model_1.h5')"
      ],
      "execution_count": 18,
      "outputs": []
    }
  ]
}